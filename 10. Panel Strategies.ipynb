{
 "cells": [
  {
   "attachments": {},
   "cell_type": "markdown",
   "metadata": {},
   "source": [
    "# Strategies and Panel Data\n",
    "\n",
    "When working with panel data, we have two options.\n",
    "\n",
    "1. We can apply a strategy to all stocks in the panel data.\n",
    "\n",
    "1. We can subset a particular stock, effectively obtaining time series data for that single asset. From here we can use the same method we did in the previous notebook. This has the advantage of parameter optimisation, which we'll see at the end of this notebook.\n",
    "\n",
    "Let's start with the *one strategy for all stocks* approach, applying the SMA crossover strategy.\n",
    "\n",
    "First, imports and preparing the dataframe."
   ]
  },
  {
   "cell_type": "code",
   "execution_count": 3,
   "metadata": {},
   "outputs": [],
   "source": [
    "import pandas as pd\n",
    "import numpy as np\n",
    "import matplotlib.pyplot as plt\n",
    "\n",
    "plt.style.use(\"ggplot\")"
   ]
  },
  {
   "cell_type": "code",
   "execution_count": 4,
   "metadata": {},
   "outputs": [],
   "source": [
    "df = pd.read_csv(\"data/top_six_2020_2025.csv\")\n",
    "df.DlyCalDt = pd.to_datetime(df.DlyCalDt, dayfirst=True)"
   ]
  },
  {
   "attachments": {},
   "cell_type": "markdown",
   "metadata": {},
   "source": [
    "### Exercise: Recycling Code\n",
    "\n",
    "Whenever we're going to be repeating an operation, it is usually a good idea (and sometimes necessary) to create our own function. The code below is correct, but out-of-order. Re-arrange the below into a function called `calculate_sma`, which will take three inputs:\n",
    "* a data frame that contains a prccd column\n",
    "* a fast window size\n",
    "* a slow window size\n",
    "\n",
    "The function will add as features:\n",
    "* slow and fast moving averages based on the prccd price\n",
    "* buy/sell signals\n",
    "* a position"
   ]
  },
  {
   "cell_type": "code",
   "execution_count": 5,
   "metadata": {},
   "outputs": [],
   "source": [
    "# dfi[\"FastMA\"] = dfi.DlyClose.rolling(window=fast_window).mean()\n",
    "\n",
    "# dfi[\"Position\"] = dfi.Signal.shift()\n",
    "\n",
    "# dfi.Signal = np.where(dfi.SlowMA.isna(), 0, dfi.Signal)\n",
    "\n",
    "# return dfi\n",
    "\n",
    "# dfi[\"Signal\"] = np.where(dfi.FastMA > dfi.SlowMA, 1, -1)\n",
    "\n",
    "# dfi[\"SlowMA\"] = dfi.DlyClose.rolling(window=slow_window).mean()\n",
    "\n",
    "# def calculate_sma(dfi, fast_window, slow_window):"
   ]
  },
  {
   "cell_type": "code",
   "execution_count": 9,
   "metadata": {},
   "outputs": [
    {
     "name": "stdout",
     "output_type": "stream",
     "text": [
      "Now processing signals for AAPL...\n"
     ]
    },
    {
     "ename": "NameError",
     "evalue": "name 'calculate_sma' is not defined",
     "output_type": "error",
     "traceback": [
      "\u001b[31m---------------------------------------------------------------------------\u001b[39m",
      "\u001b[31mNameError\u001b[39m                                 Traceback (most recent call last)",
      "\u001b[36mCell\u001b[39m\u001b[36m \u001b[39m\u001b[32mIn[9]\u001b[39m\u001b[32m, line 6\u001b[39m\n\u001b[32m      4\u001b[39m \u001b[38;5;28;01mfor\u001b[39;00m name, group \u001b[38;5;129;01min\u001b[39;00m grouped:\n\u001b[32m      5\u001b[39m     \u001b[38;5;28mprint\u001b[39m(\u001b[33mf\u001b[39m\u001b[33m\"\u001b[39m\u001b[33mNow processing signals for \u001b[39m\u001b[38;5;132;01m{\u001b[39;00mname\u001b[38;5;132;01m}\u001b[39;00m\u001b[33m...\u001b[39m\u001b[33m\"\u001b[39m)\n\u001b[32m----> \u001b[39m\u001b[32m6\u001b[39m     signals= \u001b[43mcalculate_sma\u001b[49m(group, FAST, SLOW)\n\u001b[32m      7\u001b[39m     groups.append(signals)\n\u001b[32m      9\u001b[39m df = pd. concat(groups)\n",
      "\u001b[31mNameError\u001b[39m: name 'calculate_sma' is not defined"
     ]
    }
   ],
   "source": [
    "FAST, SLOW = 50, 200\n",
    "grouped = df.groupby(\"Ticker\")\n",
    "groups = []\n",
    "for name, group in grouped:\n",
    "    print(f\"Now processing signals for {name}...\")\n",
    "    signals= calculate_sma(group, FAST, SLOW)\n",
    "    groups.append(signals)\n",
    "\n",
    "df = pd. concat(groups)\n",
    "df\n"
   ]
  },
  {
   "attachments": {},
   "cell_type": "markdown",
   "metadata": {},
   "source": [
    "With the function done, we can apply it groupwise to the stocks in our panel data by iterating over the groups."
   ]
  },
  {
   "cell_type": "code",
   "execution_count": null,
   "metadata": {},
   "outputs": [],
   "source": []
  },
  {
   "cell_type": "markdown",
   "metadata": {},
   "source": [
    "Then it's a matter of calculating the cumulative returns as we've done before.... nearly. Remember that we have grouped data here!"
   ]
  },
  {
   "cell_type": "code",
   "execution_count": 11,
   "metadata": {},
   "outputs": [
    {
     "ename": "AttributeError",
     "evalue": "'DataFrame' object has no attribute 'Signal'",
     "output_type": "error",
     "traceback": [
      "\u001b[31m---------------------------------------------------------------------------\u001b[39m",
      "\u001b[31mAttributeError\u001b[39m                            Traceback (most recent call last)",
      "\u001b[32m/tmp/ipykernel_29159/3881272551.py\u001b[39m in \u001b[36m?\u001b[39m\u001b[34m()\u001b[39m\n\u001b[32m      1\u001b[39m df[\u001b[33m\"Returns\"\u001b[39m] = df.groupby(\u001b[33m\"Ticker\"\u001b[39m).DlyClose.pct_change()\n\u001b[32m----> \u001b[39m\u001b[32m2\u001b[39m df[\u001b[33m\"Strategy\"\u001b[39m] = df.groupby(\u001b[33m\"Ticker\"\u001b[39m).Returns * df.Signal.shift()\n\u001b[32m      3\u001b[39m \n\u001b[32m      4\u001b[39m df[\u001b[33m\"Buyout\"\u001b[39m] = (\u001b[32m1\u001b[39m + df.Returns).groupby(df.Ticker).cumprod() -\u001b[32m1\u001b[39m\n\u001b[32m      5\u001b[39m df[\u001b[33m\"MACS\"\u001b[39m] = (\u001b[32m1\u001b[39m + df.Strategy).groupby(df.Ticker).cumprod() - \u001b[32m1\u001b[39m\n",
      "\u001b[32m~/.local/lib/python3.12/site-packages/pandas/core/generic.py\u001b[39m in \u001b[36m?\u001b[39m\u001b[34m(self, name)\u001b[39m\n\u001b[32m   6295\u001b[39m             \u001b[38;5;28;01mand\u001b[39;00m name \u001b[38;5;28;01mnot\u001b[39;00m \u001b[38;5;28;01min\u001b[39;00m self._accessors\n\u001b[32m   6296\u001b[39m             \u001b[38;5;28;01mand\u001b[39;00m self._info_axis._can_hold_identifiers_and_holds_name(name)\n\u001b[32m   6297\u001b[39m         ):\n\u001b[32m   6298\u001b[39m             \u001b[38;5;28;01mreturn\u001b[39;00m self[name]\n\u001b[32m-> \u001b[39m\u001b[32m6299\u001b[39m         \u001b[38;5;28;01mreturn\u001b[39;00m object.__getattribute__(self, name)\n",
      "\u001b[31mAttributeError\u001b[39m: 'DataFrame' object has no attribute 'Signal'"
     ]
    }
   ],
   "source": [
    "df[\"Returns\"] = df.groupby(\"Ticker\").DlyClose.pct_change()\n",
    "df[\"Strategy\"] = df.groupby(\"Ticker\").Returns * df.Signal.shift()\n",
    "\n",
    "df[\"Buyout\"] = (1 + df.Returns).groupby(df.Ticker).cumprod() -1\n",
    "df[\"MACS\"] = (1 + df.Strategy).groupby(df.Ticker).cumprod() - 1\n",
    "df.tail()"
   ]
  },
  {
   "cell_type": "markdown",
   "metadata": {},
   "source": [
    "### Exercise: Data Display\n",
    "\n",
    "Can you produce a data frame with the end-of-period market and strategy cumulative return for each stock?"
   ]
  },
  {
   "cell_type": "code",
   "execution_count": 1,
   "metadata": {},
   "outputs": [
    {
     "ename": "NameError",
     "evalue": "name 'df' is not defined",
     "output_type": "error",
     "traceback": [
      "\u001b[31m---------------------------------------------------------------------------\u001b[39m",
      "\u001b[31mNameError\u001b[39m                                 Traceback (most recent call last)",
      "\u001b[36mCell\u001b[39m\u001b[36m \u001b[39m\u001b[32mIn[1]\u001b[39m\u001b[32m, line 1\u001b[39m\n\u001b[32m----> \u001b[39m\u001b[32m1\u001b[39m \u001b[43mdf\u001b[49m.groupby (\u001b[33m\"\u001b[39m\u001b[33mTicker\u001b[39m\u001b[33m\"\u001b[39m).agg(\n\u001b[32m      2\u001b[39m     {\u001b[33m\"\u001b[39m\u001b[33mBuyout\u001b[39m\u001b[33m\"\u001b[39m: \u001b[33m\"\u001b[39m\u001b[33mlast\u001b[39m\u001b[33m\"\u001b[39m, \u001b[33m\"\u001b[39m\u001b[33mMACS\u001b[39m\u001b[33m\"\u001b[39m: \u001b[33m\"\u001b[39m\u001b[33mlast\u001b[39m\u001b[33m\"\u001b[39m}\n\u001b[32m      3\u001b[39m \n\u001b[32m      4\u001b[39m )\n",
      "\u001b[31mNameError\u001b[39m: name 'df' is not defined"
     ]
    }
   ],
   "source": [
    "df.groupby (\"Ticker\").agg(\n",
    "    {\"Buyout\": \"last\", \"MACS\": \"last\"}\n",
    "    \n",
    ")"
   ]
  },
  {
   "attachments": {},
   "cell_type": "markdown",
   "metadata": {},
   "source": [
    "## Single Stock\n",
    "\n",
    "Let's subset META (Facebook) and use that for the rest of the notebook."
   ]
  },
  {
   "cell_type": "code",
   "execution_count": null,
   "metadata": {},
   "outputs": [],
   "source": []
  },
  {
   "attachments": {},
   "cell_type": "markdown",
   "metadata": {},
   "source": [
    "### Exercise: BB Breakout\n",
    "\n",
    "Implement an Bollinger Bands Breakout strategy and backtest it on META.\n",
    "\n",
    "- First create high and low Bollinger Bands as usual\n",
    "- Then generate signals as follows:\n",
    "  - Buy (+1) when the close price crosses above the upper band\n",
    "    - Hold the position until a signal change\n",
    "  - Sell (-1) when the close price crosses under the lower band\n",
    "    - Hold the position until a signal change\n",
    "- Generate positions\n",
    "- Calculate the strategy returns and cumulative strategy returns\n",
    "- Report and plot the cumulative strategy and market returns\n",
    "\n",
    "**HINT** You can create an empty column by assigning it `np.nan`"
   ]
  },
  {
   "cell_type": "code",
   "execution_count": null,
   "metadata": {},
   "outputs": [],
   "source": [
    "## YOUR CODE GOES HERE"
   ]
  },
  {
   "attachments": {},
   "cell_type": "markdown",
   "metadata": {},
   "source": [
    "## Parameter Optimisation\n",
    "\n",
    "Parameter optimisation involves getting the best out of a strategy. The *parameters* in our strategy are the window size of the fast SMA and slow SMA. We used 50 and 200 days, but could try different combinations to see if they give better results.\n",
    "\n",
    "Common **fast** window sizes include 7, 20, 50 and common **slow** window sizes include 50, 100, 200.\n",
    "\n",
    "However, beware of overfitting! When a model fits our historical data too closely, it can perform poorly in future real-world scenarios."
   ]
  },
  {
   "attachments": {},
   "cell_type": "markdown",
   "metadata": {},
   "source": [
    "### Exercise: Which windows?\n",
    "\n",
    "The code below implements an Exponential Moving Average Crossover Strategy. Similar to our SMA strategy, but calculating the rolling mean in a different way that takes recent prices into greater consideration.\n",
    "\n",
    "Unfortunately, the implementation with the window sizes below does not perform well. Modify the code below to perform a parameter optimisation on the strategy. Your code should be able to test 3 fast window sizes and 3 slow window sizes in combination.\n",
    "\n",
    "Can you find a combination of window sizes that sees this EMA strategy outperform the simple Bollinger Band strategy above?"
   ]
  },
  {
   "cell_type": "code",
   "execution_count": null,
   "metadata": {},
   "outputs": [],
   "source": [
    "ema = meta.copy()\n",
    "\n",
    "## MODIFY THIS CODE\n",
    "\n",
    "fast_window, slow_window = 50, 200\n",
    "\n",
    "ema[\"FastEMA\"] = ema.DlyClose.ewm(span=fast_window, adjust=False).mean()\n",
    "ema[\"SlowEMA\"] = ema.DlyClose.ewm(span=slow_window, adjust=False).mean()\n",
    "\n",
    "ema[\"Signal\"] = np.where(ema.FastEMA > ema.SlowEMA, 1, -1)\n",
    "ema[\"Signal\"] = np.where(ema.SlowEMA.isna(), 0, ema.Signal)\n",
    "\n",
    "ema[\"Position\"] = ema.Signal.shift()\n",
    "ema[\"StratRet\"] = ema.Position * ema.MarketDaily\n",
    "ema[\"Strategy\"] = (1 + ema.StratRet).cumprod() - 1\n",
    "\n",
    "print(\"Short window:\", fast_window, \"Long window:\", slow_window)\n",
    "print(\"Cumulative Strategy Return is\", ema.Strategy.iloc[-1])"
   ]
  },
  {
   "cell_type": "code",
   "execution_count": null,
   "metadata": {},
   "outputs": [],
   "source": []
  }
 ],
 "metadata": {
  "kernelspec": {
   "display_name": "Python 3",
   "language": "python",
   "name": "python3"
  },
  "language_info": {
   "codemirror_mode": {
    "name": "ipython",
    "version": 3
   },
   "file_extension": ".py",
   "mimetype": "text/x-python",
   "name": "python",
   "nbconvert_exporter": "python",
   "pygments_lexer": "ipython3",
   "version": "3.12.1"
  }
 },
 "nbformat": 4,
 "nbformat_minor": 2
}
