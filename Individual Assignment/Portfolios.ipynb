{
 "cells": [
  {
   "attachments": {},
   "cell_type": "markdown",
   "metadata": {},
   "source": [
    "# Portfolio Management"
   ]
  },
  {
   "cell_type": "code",
   "execution_count": 1,
   "metadata": {},
   "outputs": [],
   "source": [
    "import numpy as np\n",
    "import matplotlib.pyplot as plt\n",
    "import pandas as pd\n",
    "import seaborn as sns\n",
    "import yfinance as yf\n",
    "\n",
    "plt.style.use(\"ggplot\")"
   ]
  },
  {
   "attachments": {},
   "cell_type": "markdown",
   "metadata": {},
   "source": [
    "## Portfolio Formation\n",
    "\n",
    "We selected 10 representative U.S. tech and growth stocks for the period 2020-01-01 to 2024-12-31, and retrieved the daily stock data using the yfinance package:"
   ]
  },
  {
   "cell_type": "code",
   "execution_count": null,
   "metadata": {},
   "outputs": [],
   "source": [
    "tickers = [\"NVDA\", \"AMD\", \"TSM\", \"AVGO\", \"MSFT\", \"META\", \"PLTR\", \"CVX\", \"COP\", \"NEM\"]\n",
    "groups= []\n",
    "\n",
    "for ticker in tickers:\n",
    "    data = yf.download(ticker, start=\"2020-01-01\", end=\"2024-12-31\")\n",
    "    data.columns = data.columns.droplevel(1)  # Remove multi-level column index\n",
    "    data.insert(0, \"Ticker\", ticker)  # Add ticker column\n",
    "    data.reset_index(inplace=True)\n",
    "    groups.append(data)\n",
    "\n",
    "multidata = pd.concat(groups)\n",
    "multidata\n",
    "# Save to current working directory as 'multidata.csv'\n",
    "multidata.to_csv(\"multidata.csv\", index=False)"
   ]
  },
  {
   "cell_type": "code",
   "execution_count": 12,
   "metadata": {},
   "outputs": [
    {
     "data": {
      "application/vnd.microsoft.datawrangler.viewer.v0+json": {
       "columns": [
        {
         "name": "index",
         "rawType": "int64",
         "type": "integer"
        },
        {
         "name": "Date",
         "rawType": "datetime64[ns]",
         "type": "datetime"
        },
        {
         "name": "Ticker",
         "rawType": "object",
         "type": "string"
        },
        {
         "name": "Close",
         "rawType": "float64",
         "type": "float"
        },
        {
         "name": "High",
         "rawType": "float64",
         "type": "float"
        },
        {
         "name": "Low",
         "rawType": "float64",
         "type": "float"
        },
        {
         "name": "Open",
         "rawType": "float64",
         "type": "float"
        },
        {
         "name": "Volume",
         "rawType": "int64",
         "type": "integer"
        }
       ],
       "ref": "af0cc2a6-8798-4db0-8af3-108f5b17287d",
       "rows": [
        [
         "0",
         "2020-01-02 00:00:00",
         "NVDA",
         "5.97174596786499",
         "5.97174596786499",
         "5.892342145878199",
         "5.942871893939774",
         "237536000"
        ],
        [
         "1",
         "2020-01-03 00:00:00",
         "NVDA",
         "5.876163005828857",
         "5.919972391625994",
         "5.827126404235172",
         "5.8520181115010415",
         "205384000"
        ],
        [
         "2",
         "2020-01-06 00:00:00",
         "NVDA",
         "5.900805950164795",
         "5.906033166396497",
         "5.756683859907929",
         "5.782819941066442",
         "262636000"
        ],
        [
         "3",
         "2020-01-07 00:00:00",
         "NVDA",
         "5.972244739532471",
         "6.018045311441172",
         "5.884128406356931",
         "5.9291821653038275",
         "314856000"
        ],
        [
         "4",
         "2020-01-08 00:00:00",
         "NVDA",
         "5.98344612121582",
         "6.024766291068211",
         "5.927937929074284",
         "5.968013252371926",
         "277108000"
        ],
        [
         "5",
         "2020-01-09 00:00:00",
         "NVDA",
         "6.049159049987793",
         "6.121593725960917",
         "5.9953932713497275",
         "6.069819131785066",
         "255112000"
        ],
        [
         "6",
         "2020-01-10 00:00:00",
         "NVDA",
         "6.081517696380615",
         "6.18680928571585",
         "6.067329676794486",
         "6.156441587389402",
         "316296000"
        ],
        [
         "7",
         "2020-01-13 00:00:00",
         "NVDA",
         "6.272188663482666",
         "6.297329150957725",
         "6.142005348332934",
         "6.1646570922930986",
         "319840000"
        ],
        [
         "8",
         "2020-01-14 00:00:00",
         "NVDA",
         "6.1551971435546875",
         "6.254763483153179",
         "6.142004241545948",
         "6.229373746085979",
         "359088000"
        ],
        [
         "9",
         "2020-01-15 00:00:00",
         "NVDA",
         "6.112634658813477",
         "6.190296578187034",
         "6.086747352355625",
         "6.1678940831842795",
         "263104000"
        ],
        [
         "10",
         "2020-01-16 00:00:00",
         "NVDA",
         "6.1962690353393555",
         "6.202243064141345",
         "6.142752030283496",
         "6.166150111937192",
         "284192000"
        ],
        [
         "11",
         "2020-01-17 00:00:00",
         "NVDA",
         "6.20497989654541",
         "6.22290197958583",
         "6.157436929219532",
         "6.215434326293218",
         "253792000"
        ],
        [
         "12",
         "2020-01-21 00:00:00",
         "NVDA",
         "6.171626091003418",
         "6.205229822302754",
         "6.137524326189438",
         "6.168390060082717",
         "217916000"
        ],
        [
         "13",
         "2020-01-22 00:00:00",
         "NVDA",
         "6.225641250610352",
         "6.312263957542838",
         "6.198011544974662",
         "6.216929224037822",
         "239240000"
        ],
        [
         "14",
         "2020-01-23 00:00:00",
         "NVDA",
         "6.294092178344727",
         "6.302555424293075",
         "6.17685300571826",
         "6.265716138636383",
         "244516000"
        ],
        [
         "15",
         "2020-01-24 00:00:00",
         "NVDA",
         "6.234852313995361",
         "6.4593748058377995",
         "6.180588486347845",
         "6.409591381895692",
         "373512000"
        ],
        [
         "16",
         "2020-01-27 00:00:00",
         "NVDA",
         "5.978964328765869",
         "6.029992105946533",
         "5.780577993601249",
         "5.930176515231483",
         "470536000"
        ],
        [
         "17",
         "2020-01-28 00:00:00",
         "NVDA",
         "6.1723737716674805",
         "6.204732661114455",
         "5.991660220223614",
         "6.044928449138789",
         "310976000"
        ],
        [
         "18",
         "2020-01-29 00:00:00",
         "NVDA",
         "6.111886978149414",
         "6.1940292835293675",
         "6.072059959848064",
         "6.157936330088367",
         "258848000"
        ],
        [
         "19",
         "2020-01-30 00:00:00",
         "NVDA",
         "6.118607044219971",
         "6.132048727515974",
         "5.95905209854601",
         "6.0140622539026785",
         "290504000"
        ],
        [
         "20",
         "2020-01-31 00:00:00",
         "NVDA",
         "5.885124206542969",
         "6.084754962077711",
         "5.843306477363866",
         "6.072806903806579",
         "370420000"
        ],
        [
         "21",
         "2020-02-03 00:00:00",
         "NVDA",
         "5.98220157623291",
         "6.001616814042242",
         "5.860730288532247",
         "5.866953096816272",
         "255564000"
        ],
        [
         "22",
         "2020-02-04 00:00:00",
         "NVDA",
         "6.151463508605957",
         "6.170630439804868",
         "6.07405087000954",
         "6.124083060037123",
         "271544000"
        ],
        [
         "23",
         "2020-02-05 00:00:00",
         "NVDA",
         "6.2418212890625",
         "6.282643426590387",
         "6.158434133822679",
         "6.272437773515948",
         "208220000"
        ],
        [
         "24",
         "2020-02-06 00:00:00",
         "NVDA",
         "6.328691482543945",
         "6.328691482543945",
         "6.195023851884492",
         "6.276170551478344",
         "218284000"
        ],
        [
         "25",
         "2020-02-07 00:00:00",
         "NVDA",
         "6.262482643127441",
         "6.310772445684586",
         "6.237092895003808",
         "6.2886187296341545",
         "189752000"
        ],
        [
         "26",
         "2020-02-10 00:00:00",
         "NVDA",
         "6.545747756958008",
         "6.546494095154397",
         "6.280153909329865",
         "6.285132345924866",
         "529608000"
        ],
        [
         "27",
         "2020-02-11 00:00:00",
         "NVDA",
         "6.668213844299316",
         "6.782964286037224",
         "6.5920455721697655",
         "6.654025822930016",
         "638556000"
        ],
        [
         "28",
         "2020-02-12 00:00:00",
         "NVDA",
         "6.78395938873291",
         "6.79043145048325",
         "6.682152604007827",
         "6.720983550200501",
         "374644000"
        ],
        [
         "29",
         "2020-02-13 00:00:00",
         "NVDA",
         "6.7401509284973145",
         "6.80735839934338",
         "6.698581979251082",
         "6.725962906211298",
         "528016000"
        ],
        [
         "30",
         "2020-02-14 00:00:00",
         "NVDA",
         "7.213340759277344",
         "7.342279230927972",
         "7.1190016154884255",
         "7.150364912026992",
         "1041924000"
        ],
        [
         "31",
         "2020-02-18 00:00:00",
         "NVDA",
         "7.382104873657227",
         "7.4005249921941605",
         "7.090624230462112",
         "7.110039466491015",
         "620164000"
        ],
        [
         "32",
         "2020-02-19 00:00:00",
         "NVDA",
         "7.833391189575195",
         "7.851064498568889",
         "7.504573163085247",
         "7.504573163085247",
         "694332000"
        ],
        [
         "33",
         "2020-02-20 00:00:00",
         "NVDA",
         "7.684040546417236",
         "7.873714406280778",
         "7.376628997768017",
         "7.785349300924621",
         "810052000"
        ],
        [
         "34",
         "2020-02-21 00:00:00",
         "NVDA",
         "7.319876194000244",
         "7.5969200503790075",
         "7.234995896345942",
         "7.571779564190867",
         "768180000"
        ],
        [
         "35",
         "2020-02-24 00:00:00",
         "NVDA",
         "6.802380084991455",
         "7.016199338897415",
         "6.670952392850735",
         "6.725464993578654",
         "856916000"
        ],
        [
         "36",
         "2020-02-25 00:00:00",
         "NVDA",
         "6.522847652435303",
         "6.939533231849029",
         "6.421040848946925",
         "6.87755297413896",
         "1055496000"
        ],
        [
         "37",
         "2020-02-26 00:00:00",
         "NVDA",
         "6.662240028381348",
         "6.856394779557783",
         "6.5216027575919115",
         "6.523095908730695",
         "747732000"
        ],
        [
         "38",
         "2020-02-27 00:00:00",
         "NVDA",
         "6.291382789611816",
         "6.650036570091333",
         "6.198979590174947",
         "6.3486676331800185",
         "906416000"
        ],
        [
         "39",
         "2020-02-28 00:00:00",
         "NVDA",
         "6.726498603820801",
         "6.786025220014102",
         "6.022142987866289",
         "6.0388302026384215",
         "1133252000"
        ],
        [
         "40",
         "2020-03-02 00:00:00",
         "NVDA",
         "6.884904384613037",
         "6.913796208685939",
         "6.500597234243079",
         "6.896610661189124",
         "890744000"
        ],
        [
         "41",
         "2020-03-03 00:00:00",
         "NVDA",
         "6.622390270233154",
         "7.00047089909078",
         "6.536960862167134",
         "6.940695348782216",
         "652792000"
        ],
        [
         "42",
         "2020-03-04 00:00:00",
         "NVDA",
         "7.086148738861084",
         "7.0956132359591555",
         "6.655016977084495",
         "6.729736766025134",
         "597408000"
        ],
        [
         "43",
         "2020-03-05 00:00:00",
         "NVDA",
         "6.806698322296143",
         "7.053521573190133",
         "6.762115469104556",
         "6.886647984097472",
         "540328000"
        ],
        [
         "44",
         "2020-03-06 00:00:00",
         "NVDA",
         "6.626124858856201",
         "6.684655282128576",
         "6.42587639884421",
         "6.627121046584288",
         "515412000"
        ],
        [
         "45",
         "2020-03-09 00:00:00",
         "NVDA",
         "6.113051891326904",
         "6.460746629882328",
         "5.932230732024252",
         "5.975069660026909",
         "614160000"
        ],
        [
         "46",
         "2020-03-10 00:00:00",
         "NVDA",
         "6.502588748931885",
         "6.502588748931885",
         "6.126749957975451",
         "6.389513124973107",
         "580648000"
        ],
        [
         "47",
         "2020-03-11 00:00:00",
         "NVDA",
         "6.138704776763916",
         "6.391007738502443",
         "6.041569580658068",
         "6.362614249242053",
         "499964000"
        ],
        [
         "48",
         "2020-03-12 00:00:00",
         "NVDA",
         "5.3875250816345215",
         "5.880922590074944",
         "5.374822618565289",
         "5.615419306959391",
         "816540000"
        ],
        [
         "49",
         "2020-03-13 00:00:00",
         "NVDA",
         "5.998480796813965",
         "6.002963878976591",
         "5.469716053656302",
         "5.740947512559459",
         "634836000"
        ]
       ],
       "shape": {
        "columns": 7,
        "rows": 12382
       }
      },
      "text/html": [
       "<div>\n",
       "<style scoped>\n",
       "    .dataframe tbody tr th:only-of-type {\n",
       "        vertical-align: middle;\n",
       "    }\n",
       "\n",
       "    .dataframe tbody tr th {\n",
       "        vertical-align: top;\n",
       "    }\n",
       "\n",
       "    .dataframe thead th {\n",
       "        text-align: right;\n",
       "    }\n",
       "</style>\n",
       "<table border=\"1\" class=\"dataframe\">\n",
       "  <thead>\n",
       "    <tr style=\"text-align: right;\">\n",
       "      <th>Price</th>\n",
       "      <th>Date</th>\n",
       "      <th>Ticker</th>\n",
       "      <th>Close</th>\n",
       "      <th>High</th>\n",
       "      <th>Low</th>\n",
       "      <th>Open</th>\n",
       "      <th>Volume</th>\n",
       "    </tr>\n",
       "  </thead>\n",
       "  <tbody>\n",
       "    <tr>\n",
       "      <th>0</th>\n",
       "      <td>2020-01-02</td>\n",
       "      <td>NVDA</td>\n",
       "      <td>5.971746</td>\n",
       "      <td>5.971746</td>\n",
       "      <td>5.892342</td>\n",
       "      <td>5.942872</td>\n",
       "      <td>237536000</td>\n",
       "    </tr>\n",
       "    <tr>\n",
       "      <th>1</th>\n",
       "      <td>2020-01-03</td>\n",
       "      <td>NVDA</td>\n",
       "      <td>5.876163</td>\n",
       "      <td>5.919972</td>\n",
       "      <td>5.827126</td>\n",
       "      <td>5.852018</td>\n",
       "      <td>205384000</td>\n",
       "    </tr>\n",
       "    <tr>\n",
       "      <th>2</th>\n",
       "      <td>2020-01-06</td>\n",
       "      <td>NVDA</td>\n",
       "      <td>5.900806</td>\n",
       "      <td>5.906033</td>\n",
       "      <td>5.756684</td>\n",
       "      <td>5.782820</td>\n",
       "      <td>262636000</td>\n",
       "    </tr>\n",
       "    <tr>\n",
       "      <th>3</th>\n",
       "      <td>2020-01-07</td>\n",
       "      <td>NVDA</td>\n",
       "      <td>5.972245</td>\n",
       "      <td>6.018045</td>\n",
       "      <td>5.884128</td>\n",
       "      <td>5.929182</td>\n",
       "      <td>314856000</td>\n",
       "    </tr>\n",
       "    <tr>\n",
       "      <th>4</th>\n",
       "      <td>2020-01-08</td>\n",
       "      <td>NVDA</td>\n",
       "      <td>5.983446</td>\n",
       "      <td>6.024766</td>\n",
       "      <td>5.927938</td>\n",
       "      <td>5.968013</td>\n",
       "      <td>277108000</td>\n",
       "    </tr>\n",
       "    <tr>\n",
       "      <th>...</th>\n",
       "      <td>...</td>\n",
       "      <td>...</td>\n",
       "      <td>...</td>\n",
       "      <td>...</td>\n",
       "      <td>...</td>\n",
       "      <td>...</td>\n",
       "      <td>...</td>\n",
       "    </tr>\n",
       "    <tr>\n",
       "      <th>1252</th>\n",
       "      <td>2024-12-23</td>\n",
       "      <td>NEM</td>\n",
       "      <td>37.758018</td>\n",
       "      <td>37.856964</td>\n",
       "      <td>37.065392</td>\n",
       "      <td>37.609597</td>\n",
       "      <td>8591600</td>\n",
       "    </tr>\n",
       "    <tr>\n",
       "      <th>1253</th>\n",
       "      <td>2024-12-24</td>\n",
       "      <td>NEM</td>\n",
       "      <td>37.906441</td>\n",
       "      <td>37.916334</td>\n",
       "      <td>37.471073</td>\n",
       "      <td>37.797599</td>\n",
       "      <td>3549300</td>\n",
       "    </tr>\n",
       "    <tr>\n",
       "      <th>1254</th>\n",
       "      <td>2024-12-26</td>\n",
       "      <td>NEM</td>\n",
       "      <td>37.688755</td>\n",
       "      <td>38.203278</td>\n",
       "      <td>37.688755</td>\n",
       "      <td>37.906439</td>\n",
       "      <td>5896400</td>\n",
       "    </tr>\n",
       "    <tr>\n",
       "      <th>1255</th>\n",
       "      <td>2024-12-27</td>\n",
       "      <td>NEM</td>\n",
       "      <td>37.441387</td>\n",
       "      <td>37.817385</td>\n",
       "      <td>37.114862</td>\n",
       "      <td>37.213810</td>\n",
       "      <td>5456100</td>\n",
       "    </tr>\n",
       "    <tr>\n",
       "      <th>1256</th>\n",
       "      <td>2024-12-30</td>\n",
       "      <td>NEM</td>\n",
       "      <td>36.610237</td>\n",
       "      <td>37.104970</td>\n",
       "      <td>36.471713</td>\n",
       "      <td>37.025811</td>\n",
       "      <td>7507800</td>\n",
       "    </tr>\n",
       "  </tbody>\n",
       "</table>\n",
       "<p>12382 rows × 7 columns</p>\n",
       "</div>"
      ],
      "text/plain": [
       "Price       Date Ticker      Close       High        Low       Open     Volume\n",
       "0     2020-01-02   NVDA   5.971746   5.971746   5.892342   5.942872  237536000\n",
       "1     2020-01-03   NVDA   5.876163   5.919972   5.827126   5.852018  205384000\n",
       "2     2020-01-06   NVDA   5.900806   5.906033   5.756684   5.782820  262636000\n",
       "3     2020-01-07   NVDA   5.972245   6.018045   5.884128   5.929182  314856000\n",
       "4     2020-01-08   NVDA   5.983446   6.024766   5.927938   5.968013  277108000\n",
       "...          ...    ...        ...        ...        ...        ...        ...\n",
       "1252  2024-12-23    NEM  37.758018  37.856964  37.065392  37.609597    8591600\n",
       "1253  2024-12-24    NEM  37.906441  37.916334  37.471073  37.797599    3549300\n",
       "1254  2024-12-26    NEM  37.688755  38.203278  37.688755  37.906439    5896400\n",
       "1255  2024-12-27    NEM  37.441387  37.817385  37.114862  37.213810    5456100\n",
       "1256  2024-12-30    NEM  36.610237  37.104970  36.471713  37.025811    7507800\n",
       "\n",
       "[12382 rows x 7 columns]"
      ]
     },
     "execution_count": 12,
     "metadata": {},
     "output_type": "execute_result"
    }
   ],
   "source": [
    "multidata"
   ]
  },
  {
   "cell_type": "markdown",
   "metadata": {},
   "source": [
    "### Data Cleaning Verification"
   ]
  },
  {
   "cell_type": "code",
   "execution_count": 19,
   "metadata": {},
   "outputs": [
    {
     "name": "stdout",
     "output_type": "stream",
     "text": [
      "Dataset Structure:\n",
      "<class 'pandas.core.frame.DataFrame'>\n",
      "Index: 12382 entries, 0 to 1256\n",
      "Data columns (total 7 columns):\n",
      " #   Column  Non-Null Count  Dtype         \n",
      "---  ------  --------------  -----         \n",
      " 0   Date    12382 non-null  datetime64[ns]\n",
      " 1   Ticker  12382 non-null  object        \n",
      " 2   Close   12382 non-null  float64       \n",
      " 3   High    12382 non-null  float64       \n",
      " 4   Low     12382 non-null  float64       \n",
      " 5   Open    12382 non-null  float64       \n",
      " 6   Volume  12382 non-null  int64         \n",
      "dtypes: datetime64[ns](1), float64(4), int64(1), object(1)\n",
      "memory usage: 773.9+ KB\n"
     ]
    }
   ],
   "source": [
    "print(\"Dataset Structure:\")\n",
    "multidata.info()"
   ]
  },
  {
   "cell_type": "code",
   "execution_count": null,
   "metadata": {},
   "outputs": [],
   "source": []
  },
  {
   "cell_type": "code",
   "execution_count": null,
   "metadata": {},
   "outputs": [],
   "source": []
  },
  {
   "attachments": {},
   "cell_type": "markdown",
   "metadata": {},
   "source": [
    "## Annualising Returns and Volatility\n",
    "\n",
    "To provide a broader picture of our portfolio's performance, let's calculate the annualised portfolio return and volatility. These are important metrics for evaluating and discussing portfolios. They are also used frequently in more advanced financial analyses."
   ]
  },
  {
   "cell_type": "code",
   "execution_count": null,
   "metadata": {},
   "outputs": [],
   "source": [
    "TRADING_DAYS = 252\n",
    "annualised_return = p_returns.mean() * TRADING_DAYS\n",
    "annualised_volatility = p_volatility * np.sqrt(TRADING_DAYS)\n",
    "\n",
    "print(\n",
    "    f\"Annualised return is: {annualised_return}, Annualised volatility is : {annualised_volatility}\"\n",
    "    \n",
    ")"
   ]
  },
  {
   "attachments": {},
   "cell_type": "markdown",
   "metadata": {},
   "source": [
    "## Sharpe Ratio\n",
    "\n",
    "The Sharpe Ratio is a measure that helps investors understand the risk-adjusted return of an investment. A high Sharpe ratio indicates that the portfolio's returns are higher for each unit of risk taken on. In contrast, a lower Sharpe Ratio indicates a less favorable risk-reward trade-off, with the potential for lower returns relative to the amount of risk being assumed.\n",
    "\n",
    "The Sharpe Ratio is calculated using annualised portfolio returns, portfolio volatility (as the measure of risk), and the *risk-free rate*. The risk-free rate is often derived from the yield of a theoretically risk-free investment, typically a government bond. The Sharpe Ratio is the average return earned in excess of the risk-free rate per unit of volatility or total risk."
   ]
  },
  {
   "attachments": {},
   "cell_type": "markdown",
   "metadata": {},
   "source": [
    "### Exercise: Looking Sharpe\n",
    "\n",
    "Calculate the Sharpe Ratio for our portfolio by applying the formula below.\n",
    "\n",
    "$$ \\text{Sharpe Ratio} = \\frac{R_p - R_f}{\\sigma_p} $$\n",
    "\n",
    "- $R_p$ is our annualised portfolio return\n",
    "- $R_f$ is the risk-free rate\n",
    "- $\\sigma_p$ is our annualised volatility\n"
   ]
  },
  {
   "cell_type": "code",
   "execution_count": null,
   "metadata": {},
   "outputs": [],
   "source": [
    "RFR = 0.0438\n",
    "sharpe = (annualised_return - RFR) / annualised_volatility\n",
    "print(f\"Sharpe Ratio is: {sharpe}\")"
   ]
  },
  {
   "cell_type": "code",
   "execution_count": null,
   "metadata": {},
   "outputs": [],
   "source": []
  }
 ],
 "metadata": {
  "kernelspec": {
   "display_name": "Python 3",
   "language": "python",
   "name": "python3"
  },
  "language_info": {
   "codemirror_mode": {
    "name": "ipython",
    "version": 3
   },
   "file_extension": ".py",
   "mimetype": "text/x-python",
   "name": "python",
   "nbconvert_exporter": "python",
   "pygments_lexer": "ipython3",
   "version": "3.12.1"
  }
 },
 "nbformat": 4,
 "nbformat_minor": 2
}
