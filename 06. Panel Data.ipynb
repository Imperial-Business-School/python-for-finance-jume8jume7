{
 "cells": [
  {
   "attachments": {},
   "cell_type": "markdown",
   "metadata": {},
   "source": [
    "# Panel Data\n",
    "\n",
    "Sometimes, data comes in such a way that many observations share certain common features. For example, several measurements can be made in the same location, under the same condition, or for the same subject. To understand the data and extract meaningful insights, we often need to aggregate these observations. This is where the groupby() function comes into play."
   ]
  },
  {
   "attachments": {},
   "cell_type": "markdown",
   "metadata": {},
   "source": [
    "## Loading\n",
    "\n",
    "As always, let's start by importing pandas and loading and cleaning our dataset."
   ]
  },
  {
   "cell_type": "code",
   "execution_count": 19,
   "metadata": {},
   "outputs": [
    {
     "name": "stdout",
     "output_type": "stream",
     "text": [
      "<class 'pandas.core.frame.DataFrame'>\n",
      "RangeIndex: 29882 entries, 0 to 29881\n",
      "Data columns (total 12 columns):\n",
      " #   Column       Non-Null Count  Dtype  \n",
      "---  ------       --------------  -----  \n",
      " 0   DlyCalDt     29882 non-null  object \n",
      " 1   Ticker       29882 non-null  object \n",
      " 2   SecurityNm   29882 non-null  object \n",
      " 3   DlyOpen      29789 non-null  float64\n",
      " 4   DlyHigh      29789 non-null  float64\n",
      " 5   DlyLow       29789 non-null  float64\n",
      " 6   DlyClose     29789 non-null  float64\n",
      " 7   DlyVol       29882 non-null  int64  \n",
      " 8   SICCD        29882 non-null  int64  \n",
      " 9   PrimaryExch  29882 non-null  object \n",
      " 10  PERMNO       29882 non-null  int64  \n",
      " 11  PERMCO       29882 non-null  int64  \n",
      "dtypes: float64(4), int64(4), object(4)\n",
      "memory usage: 2.7+ MB\n"
     ]
    },
    {
     "data": {
      "application/vnd.microsoft.datawrangler.viewer.v0+json": {
       "columns": [
        {
         "name": "index",
         "rawType": "int64",
         "type": "integer"
        },
        {
         "name": "DlyCalDt",
         "rawType": "datetime64[ns]",
         "type": "datetime"
        },
        {
         "name": "Ticker",
         "rawType": "object",
         "type": "string"
        },
        {
         "name": "SecurityNm",
         "rawType": "object",
         "type": "string"
        },
        {
         "name": "DlyOpen",
         "rawType": "float64",
         "type": "float"
        },
        {
         "name": "DlyHigh",
         "rawType": "float64",
         "type": "float"
        },
        {
         "name": "DlyLow",
         "rawType": "float64",
         "type": "float"
        },
        {
         "name": "DlyClose",
         "rawType": "float64",
         "type": "float"
        },
        {
         "name": "DlyVol",
         "rawType": "int64",
         "type": "integer"
        },
        {
         "name": "SICCD",
         "rawType": "int64",
         "type": "integer"
        },
        {
         "name": "PrimaryExch",
         "rawType": "object",
         "type": "string"
        },
        {
         "name": "PERMNO",
         "rawType": "int64",
         "type": "integer"
        },
        {
         "name": "PERMCO",
         "rawType": "int64",
         "type": "integer"
        }
       ],
       "ref": "be0a1085-189f-45aa-b6d2-4c6aff510463",
       "rows": [
        [
         "0",
         "2025-01-02 00:00:00",
         "A",
         "AGILENT TECHNOLOGIES INC; COM NONE; CONS",
         "135.21",
         "135.73",
         "132.87",
         "133.43",
         "953587",
         "3826",
         "N",
         "87432",
         "36364"
        ],
        [
         "1",
         "2025-01-03 00:00:00",
         "A",
         "AGILENT TECHNOLOGIES INC; COM NONE; CONS",
         "133.45",
         "136.05",
         "132.755",
         "135.69",
         "1246919",
         "3826",
         "N",
         "87432",
         "36364"
        ],
        [
         "2",
         "2025-01-06 00:00:00",
         "A",
         "AGILENT TECHNOLOGIES INC; COM NONE; CONS",
         "135.6",
         "138.34",
         "135.34",
         "136.43",
         "1047034",
         "3826",
         "N",
         "87432",
         "36364"
        ],
        [
         "3",
         "2025-01-07 00:00:00",
         "A",
         "AGILENT TECHNOLOGIES INC; COM NONE; CONS",
         "136.83",
         "140.28",
         "135.98",
         "137.41",
         "1056693",
         "3826",
         "N",
         "87432",
         "36364"
        ],
        [
         "4",
         "2025-01-08 00:00:00",
         "A",
         "AGILENT TECHNOLOGIES INC; COM NONE; CONS",
         "137.68",
         "137.68",
         "135.63",
         "137.0",
         "1684573",
         "3826",
         "N",
         "87432",
         "36364"
        ]
       ],
       "shape": {
        "columns": 12,
        "rows": 5
       }
      },
      "text/html": [
       "<div>\n",
       "<style scoped>\n",
       "    .dataframe tbody tr th:only-of-type {\n",
       "        vertical-align: middle;\n",
       "    }\n",
       "\n",
       "    .dataframe tbody tr th {\n",
       "        vertical-align: top;\n",
       "    }\n",
       "\n",
       "    .dataframe thead th {\n",
       "        text-align: right;\n",
       "    }\n",
       "</style>\n",
       "<table border=\"1\" class=\"dataframe\">\n",
       "  <thead>\n",
       "    <tr style=\"text-align: right;\">\n",
       "      <th></th>\n",
       "      <th>DlyCalDt</th>\n",
       "      <th>Ticker</th>\n",
       "      <th>SecurityNm</th>\n",
       "      <th>DlyOpen</th>\n",
       "      <th>DlyHigh</th>\n",
       "      <th>DlyLow</th>\n",
       "      <th>DlyClose</th>\n",
       "      <th>DlyVol</th>\n",
       "      <th>SICCD</th>\n",
       "      <th>PrimaryExch</th>\n",
       "      <th>PERMNO</th>\n",
       "      <th>PERMCO</th>\n",
       "    </tr>\n",
       "  </thead>\n",
       "  <tbody>\n",
       "    <tr>\n",
       "      <th>0</th>\n",
       "      <td>2025-01-02</td>\n",
       "      <td>A</td>\n",
       "      <td>AGILENT TECHNOLOGIES INC; COM NONE; CONS</td>\n",
       "      <td>135.21</td>\n",
       "      <td>135.73</td>\n",
       "      <td>132.870</td>\n",
       "      <td>133.43</td>\n",
       "      <td>953587</td>\n",
       "      <td>3826</td>\n",
       "      <td>N</td>\n",
       "      <td>87432</td>\n",
       "      <td>36364</td>\n",
       "    </tr>\n",
       "    <tr>\n",
       "      <th>1</th>\n",
       "      <td>2025-01-03</td>\n",
       "      <td>A</td>\n",
       "      <td>AGILENT TECHNOLOGIES INC; COM NONE; CONS</td>\n",
       "      <td>133.45</td>\n",
       "      <td>136.05</td>\n",
       "      <td>132.755</td>\n",
       "      <td>135.69</td>\n",
       "      <td>1246919</td>\n",
       "      <td>3826</td>\n",
       "      <td>N</td>\n",
       "      <td>87432</td>\n",
       "      <td>36364</td>\n",
       "    </tr>\n",
       "    <tr>\n",
       "      <th>2</th>\n",
       "      <td>2025-01-06</td>\n",
       "      <td>A</td>\n",
       "      <td>AGILENT TECHNOLOGIES INC; COM NONE; CONS</td>\n",
       "      <td>135.60</td>\n",
       "      <td>138.34</td>\n",
       "      <td>135.340</td>\n",
       "      <td>136.43</td>\n",
       "      <td>1047034</td>\n",
       "      <td>3826</td>\n",
       "      <td>N</td>\n",
       "      <td>87432</td>\n",
       "      <td>36364</td>\n",
       "    </tr>\n",
       "    <tr>\n",
       "      <th>3</th>\n",
       "      <td>2025-01-07</td>\n",
       "      <td>A</td>\n",
       "      <td>AGILENT TECHNOLOGIES INC; COM NONE; CONS</td>\n",
       "      <td>136.83</td>\n",
       "      <td>140.28</td>\n",
       "      <td>135.980</td>\n",
       "      <td>137.41</td>\n",
       "      <td>1056693</td>\n",
       "      <td>3826</td>\n",
       "      <td>N</td>\n",
       "      <td>87432</td>\n",
       "      <td>36364</td>\n",
       "    </tr>\n",
       "    <tr>\n",
       "      <th>4</th>\n",
       "      <td>2025-01-08</td>\n",
       "      <td>A</td>\n",
       "      <td>AGILENT TECHNOLOGIES INC; COM NONE; CONS</td>\n",
       "      <td>137.68</td>\n",
       "      <td>137.68</td>\n",
       "      <td>135.630</td>\n",
       "      <td>137.00</td>\n",
       "      <td>1684573</td>\n",
       "      <td>3826</td>\n",
       "      <td>N</td>\n",
       "      <td>87432</td>\n",
       "      <td>36364</td>\n",
       "    </tr>\n",
       "  </tbody>\n",
       "</table>\n",
       "</div>"
      ],
      "text/plain": [
       "    DlyCalDt Ticker                                SecurityNm  DlyOpen  \\\n",
       "0 2025-01-02      A  AGILENT TECHNOLOGIES INC; COM NONE; CONS   135.21   \n",
       "1 2025-01-03      A  AGILENT TECHNOLOGIES INC; COM NONE; CONS   133.45   \n",
       "2 2025-01-06      A  AGILENT TECHNOLOGIES INC; COM NONE; CONS   135.60   \n",
       "3 2025-01-07      A  AGILENT TECHNOLOGIES INC; COM NONE; CONS   136.83   \n",
       "4 2025-01-08      A  AGILENT TECHNOLOGIES INC; COM NONE; CONS   137.68   \n",
       "\n",
       "   DlyHigh   DlyLow  DlyClose   DlyVol  SICCD PrimaryExch  PERMNO  PERMCO  \n",
       "0   135.73  132.870    133.43   953587   3826           N   87432   36364  \n",
       "1   136.05  132.755    135.69  1246919   3826           N   87432   36364  \n",
       "2   138.34  135.340    136.43  1047034   3826           N   87432   36364  \n",
       "3   140.28  135.980    137.41  1056693   3826           N   87432   36364  \n",
       "4   137.68  135.630    137.00  1684573   3826           N   87432   36364  "
      ]
     },
     "execution_count": 19,
     "metadata": {},
     "output_type": "execute_result"
    }
   ],
   "source": [
    "import pandas as pd\n",
    "df = pd.read_csv(\"data/sp500_q1_2025.csv\")\n",
    "df.info()\n",
    "df.DlyCalDt.head()# checking if any adjustment is needed\n",
    "df[\"DlyCalDt\"] = pd.to_datetime(df.DlyCalDt)\n",
    "df.head()\n"
   ]
  },
  {
   "attachments": {},
   "cell_type": "markdown",
   "metadata": {},
   "source": [
    "We'll stop short of setting the index as our datetime value though. This is because an index must have unique values, and because this panel data contains lots of different company stocks for just one quarter of a year, we'll see the same date lots of times."
   ]
  },
  {
   "cell_type": "code",
   "execution_count": 21,
   "metadata": {},
   "outputs": [
    {
     "data": {
      "text/plain": [
       "Timestamp('2025-01-02 00:00:00')"
      ]
     },
     "execution_count": 21,
     "metadata": {},
     "output_type": "execute_result"
    }
   ],
   "source": [
    "df.DlyCalDt.nunique()\n",
    "df.DlyCalDt.min()"
   ]
  },
  {
   "cell_type": "markdown",
   "metadata": {},
   "source": [
    "## Cleaning\n",
    "\n",
    "Let's not forget data cleaning! Do we have missing data? Where?"
   ]
  },
  {
   "cell_type": "code",
   "execution_count": 30,
   "metadata": {},
   "outputs": [
    {
     "data": {
      "application/vnd.microsoft.datawrangler.viewer.v0+json": {
       "columns": [
        {
         "name": "index",
         "rawType": "int64",
         "type": "integer"
        },
        {
         "name": "DlyCalDt",
         "rawType": "datetime64[ns]",
         "type": "datetime"
        },
        {
         "name": "Ticker",
         "rawType": "object",
         "type": "string"
        },
        {
         "name": "SecurityNm",
         "rawType": "object",
         "type": "string"
        },
        {
         "name": "DlyOpen",
         "rawType": "float64",
         "type": "float"
        },
        {
         "name": "DlyHigh",
         "rawType": "float64",
         "type": "float"
        },
        {
         "name": "DlyLow",
         "rawType": "float64",
         "type": "float"
        },
        {
         "name": "DlyClose",
         "rawType": "float64",
         "type": "float"
        },
        {
         "name": "DlyVol",
         "rawType": "int64",
         "type": "integer"
        },
        {
         "name": "SICCD",
         "rawType": "int64",
         "type": "integer"
        },
        {
         "name": "PrimaryExch",
         "rawType": "object",
         "type": "string"
        },
        {
         "name": "PERMNO",
         "rawType": "int64",
         "type": "integer"
        },
        {
         "name": "PERMCO",
         "rawType": "int64",
         "type": "integer"
        }
       ],
       "ref": "9730c408-df9d-4728-8e5f-f5c87f822cba",
       "rows": [
        [
         "3660",
         "2025-01-02 00:00:00",
         "BIO",
         "BIO RAD LABORATORIES INC; COM B; CONS",
         null,
         null,
         null,
         null,
         "0",
         "3826",
         "N",
         "61508",
         "655"
        ],
        [
         "3662",
         "2025-01-03 00:00:00",
         "BIO",
         "BIO RAD LABORATORIES INC; COM B; CONS",
         null,
         null,
         null,
         null,
         "0",
         "3826",
         "N",
         "61508",
         "655"
        ],
        [
         "3664",
         "2025-01-06 00:00:00",
         "BIO",
         "BIO RAD LABORATORIES INC; COM B; CONS",
         null,
         null,
         null,
         null,
         "0",
         "3826",
         "N",
         "61508",
         "655"
        ],
        [
         "3666",
         "2025-01-07 00:00:00",
         "BIO",
         "BIO RAD LABORATORIES INC; COM B; CONS",
         null,
         null,
         null,
         null,
         "0",
         "3826",
         "N",
         "61508",
         "655"
        ],
        [
         "3670",
         "2025-01-10 00:00:00",
         "BIO",
         "BIO RAD LABORATORIES INC; COM B; CONS",
         null,
         null,
         null,
         null,
         "0",
         "3826",
         "N",
         "61508",
         "655"
        ],
        [
         "3672",
         "2025-01-13 00:00:00",
         "BIO",
         "BIO RAD LABORATORIES INC; COM B; CONS",
         null,
         null,
         null,
         null,
         "0",
         "3826",
         "N",
         "61508",
         "655"
        ],
        [
         "3674",
         "2025-01-14 00:00:00",
         "BIO",
         "BIO RAD LABORATORIES INC; COM B; CONS",
         null,
         null,
         null,
         null,
         "0",
         "3826",
         "N",
         "61508",
         "655"
        ],
        [
         "3676",
         "2025-01-15 00:00:00",
         "BIO",
         "BIO RAD LABORATORIES INC; COM B; CONS",
         null,
         null,
         null,
         null,
         "0",
         "3826",
         "N",
         "61508",
         "655"
        ],
        [
         "3678",
         "2025-01-16 00:00:00",
         "BIO",
         "BIO RAD LABORATORIES INC; COM B; CONS",
         null,
         null,
         null,
         null,
         "0",
         "3826",
         "N",
         "61508",
         "655"
        ],
        [
         "3680",
         "2025-01-17 00:00:00",
         "BIO",
         "BIO RAD LABORATORIES INC; COM B; CONS",
         null,
         null,
         null,
         null,
         "0",
         "3826",
         "N",
         "61508",
         "655"
        ],
        [
         "3684",
         "2025-01-22 00:00:00",
         "BIO",
         "BIO RAD LABORATORIES INC; COM B; CONS",
         null,
         null,
         null,
         null,
         "0",
         "3826",
         "N",
         "61508",
         "655"
        ],
        [
         "3686",
         "2025-01-23 00:00:00",
         "BIO",
         "BIO RAD LABORATORIES INC; COM B; CONS",
         null,
         null,
         null,
         null,
         "0",
         "3826",
         "N",
         "61508",
         "655"
        ],
        [
         "3690",
         "2025-01-27 00:00:00",
         "BIO",
         "BIO RAD LABORATORIES INC; COM B; CONS",
         null,
         null,
         null,
         null,
         "0",
         "3826",
         "N",
         "61508",
         "655"
        ],
        [
         "3692",
         "2025-01-28 00:00:00",
         "BIO",
         "BIO RAD LABORATORIES INC; COM B; CONS",
         null,
         null,
         null,
         null,
         "0",
         "3826",
         "N",
         "61508",
         "655"
        ],
        [
         "3696",
         "2025-01-30 00:00:00",
         "BIO",
         "BIO RAD LABORATORIES INC; COM B; CONS",
         null,
         null,
         null,
         null,
         "0",
         "3826",
         "N",
         "61508",
         "655"
        ],
        [
         "3698",
         "2025-01-31 00:00:00",
         "BIO",
         "BIO RAD LABORATORIES INC; COM B; CONS",
         null,
         null,
         null,
         null,
         "0",
         "3826",
         "N",
         "61508",
         "655"
        ],
        [
         "3700",
         "2025-02-03 00:00:00",
         "BIO",
         "BIO RAD LABORATORIES INC; COM B; CONS",
         null,
         null,
         null,
         null,
         "0",
         "3826",
         "N",
         "61508",
         "655"
        ],
        [
         "3702",
         "2025-02-04 00:00:00",
         "BIO",
         "BIO RAD LABORATORIES INC; COM B; CONS",
         null,
         null,
         null,
         null,
         "0",
         "3826",
         "N",
         "61508",
         "655"
        ],
        [
         "3704",
         "2025-02-05 00:00:00",
         "BIO",
         "BIO RAD LABORATORIES INC; COM B; CONS",
         null,
         null,
         null,
         null,
         "0",
         "3826",
         "N",
         "61508",
         "655"
        ],
        [
         "3708",
         "2025-02-07 00:00:00",
         "BIO",
         "BIO RAD LABORATORIES INC; COM B; CONS",
         null,
         null,
         null,
         null,
         "0",
         "3826",
         "N",
         "61508",
         "655"
        ],
        [
         "3710",
         "2025-02-10 00:00:00",
         "BIO",
         "BIO RAD LABORATORIES INC; COM B; CONS",
         null,
         null,
         null,
         null,
         "0",
         "3826",
         "N",
         "61508",
         "655"
        ],
        [
         "3712",
         "2025-02-11 00:00:00",
         "BIO",
         "BIO RAD LABORATORIES INC; COM B; CONS",
         null,
         null,
         null,
         null,
         "0",
         "3826",
         "N",
         "61508",
         "655"
        ],
        [
         "3718",
         "2025-02-14 00:00:00",
         "BIO",
         "BIO RAD LABORATORIES INC; COM B; CONS",
         null,
         null,
         null,
         null,
         "0",
         "3826",
         "N",
         "61508",
         "655"
        ],
        [
         "3720",
         "2025-02-18 00:00:00",
         "BIO",
         "BIO RAD LABORATORIES INC; COM B; CONS",
         null,
         null,
         null,
         null,
         "0",
         "3826",
         "N",
         "61508",
         "655"
        ],
        [
         "3722",
         "2025-02-19 00:00:00",
         "BIO",
         "BIO RAD LABORATORIES INC; COM B; CONS",
         null,
         null,
         null,
         null,
         "0",
         "3826",
         "N",
         "61508",
         "655"
        ],
        [
         "3724",
         "2025-02-20 00:00:00",
         "BIO",
         "BIO RAD LABORATORIES INC; COM B; CONS",
         null,
         null,
         null,
         null,
         "0",
         "3826",
         "N",
         "61508",
         "655"
        ],
        [
         "3726",
         "2025-02-21 00:00:00",
         "BIO",
         "BIO RAD LABORATORIES INC; COM B; CONS",
         null,
         null,
         null,
         null,
         "0",
         "3826",
         "N",
         "61508",
         "655"
        ],
        [
         "3728",
         "2025-02-24 00:00:00",
         "BIO",
         "BIO RAD LABORATORIES INC; COM B; CONS",
         null,
         null,
         null,
         null,
         "0",
         "3826",
         "N",
         "61508",
         "655"
        ],
        [
         "3730",
         "2025-02-25 00:00:00",
         "BIO",
         "BIO RAD LABORATORIES INC; COM B; CONS",
         null,
         null,
         null,
         null,
         "0",
         "3826",
         "N",
         "61508",
         "655"
        ],
        [
         "3732",
         "2025-02-26 00:00:00",
         "BIO",
         "BIO RAD LABORATORIES INC; COM B; CONS",
         null,
         null,
         null,
         null,
         "0",
         "3826",
         "N",
         "61508",
         "655"
        ],
        [
         "3734",
         "2025-02-27 00:00:00",
         "BIO",
         "BIO RAD LABORATORIES INC; COM B; CONS",
         null,
         null,
         null,
         null,
         "0",
         "3826",
         "N",
         "61508",
         "655"
        ],
        [
         "3736",
         "2025-02-28 00:00:00",
         "BIO",
         "BIO RAD LABORATORIES INC; COM B; CONS",
         null,
         null,
         null,
         null,
         "0",
         "3826",
         "N",
         "61508",
         "655"
        ],
        [
         "3740",
         "2025-03-04 00:00:00",
         "BIO",
         "BIO RAD LABORATORIES INC; COM B; CONS",
         null,
         null,
         null,
         null,
         "0",
         "3826",
         "N",
         "61508",
         "655"
        ],
        [
         "3742",
         "2025-03-05 00:00:00",
         "BIO",
         "BIO RAD LABORATORIES INC; COM B; CONS",
         null,
         null,
         null,
         null,
         "0",
         "3826",
         "N",
         "61508",
         "655"
        ],
        [
         "3744",
         "2025-03-06 00:00:00",
         "BIO",
         "BIO RAD LABORATORIES INC; COM B; CONS",
         null,
         null,
         null,
         null,
         "0",
         "3826",
         "N",
         "61508",
         "655"
        ],
        [
         "3746",
         "2025-03-07 00:00:00",
         "BIO",
         "BIO RAD LABORATORIES INC; COM B; CONS",
         null,
         null,
         null,
         null,
         "0",
         "3826",
         "N",
         "61508",
         "655"
        ],
        [
         "3748",
         "2025-03-10 00:00:00",
         "BIO",
         "BIO RAD LABORATORIES INC; COM B; CONS",
         null,
         null,
         null,
         null,
         "0",
         "3826",
         "N",
         "61508",
         "655"
        ],
        [
         "3750",
         "2025-03-11 00:00:00",
         "BIO",
         "BIO RAD LABORATORIES INC; COM B; CONS",
         null,
         null,
         null,
         null,
         "0",
         "3826",
         "N",
         "61508",
         "655"
        ],
        [
         "3752",
         "2025-03-12 00:00:00",
         "BIO",
         "BIO RAD LABORATORIES INC; COM B; CONS",
         null,
         null,
         null,
         null,
         "0",
         "3826",
         "N",
         "61508",
         "655"
        ],
        [
         "3754",
         "2025-03-13 00:00:00",
         "BIO",
         "BIO RAD LABORATORIES INC; COM B; CONS",
         null,
         null,
         null,
         null,
         "0",
         "3826",
         "N",
         "61508",
         "655"
        ],
        [
         "3756",
         "2025-03-14 00:00:00",
         "BIO",
         "BIO RAD LABORATORIES INC; COM B; CONS",
         null,
         null,
         null,
         null,
         "0",
         "3826",
         "N",
         "61508",
         "655"
        ],
        [
         "3758",
         "2025-03-17 00:00:00",
         "BIO",
         "BIO RAD LABORATORIES INC; COM B; CONS",
         null,
         null,
         null,
         null,
         "0",
         "3826",
         "N",
         "61508",
         "655"
        ],
        [
         "3760",
         "2025-03-18 00:00:00",
         "BIO",
         "BIO RAD LABORATORIES INC; COM B; CONS",
         null,
         null,
         null,
         null,
         "0",
         "3826",
         "N",
         "61508",
         "655"
        ],
        [
         "3762",
         "2025-03-19 00:00:00",
         "BIO",
         "BIO RAD LABORATORIES INC; COM B; CONS",
         null,
         null,
         null,
         null,
         "0",
         "3826",
         "N",
         "61508",
         "655"
        ],
        [
         "3764",
         "2025-03-20 00:00:00",
         "BIO",
         "BIO RAD LABORATORIES INC; COM B; CONS",
         null,
         null,
         null,
         null,
         "0",
         "3826",
         "N",
         "61508",
         "655"
        ],
        [
         "3766",
         "2025-03-21 00:00:00",
         "BIO",
         "BIO RAD LABORATORIES INC; COM B; CONS",
         null,
         null,
         null,
         null,
         "0",
         "3826",
         "N",
         "61508",
         "655"
        ],
        [
         "3768",
         "2025-03-24 00:00:00",
         "BIO",
         "BIO RAD LABORATORIES INC; COM B; CONS",
         null,
         null,
         null,
         null,
         "0",
         "3826",
         "N",
         "61508",
         "655"
        ],
        [
         "3770",
         "2025-03-25 00:00:00",
         "BIO",
         "BIO RAD LABORATORIES INC; COM B; CONS",
         null,
         null,
         null,
         null,
         "0",
         "3826",
         "N",
         "61508",
         "655"
        ],
        [
         "3772",
         "2025-03-26 00:00:00",
         "BIO",
         "BIO RAD LABORATORIES INC; COM B; CONS",
         null,
         null,
         null,
         null,
         "0",
         "3826",
         "N",
         "61508",
         "655"
        ],
        [
         "3774",
         "2025-03-27 00:00:00",
         "BIO",
         "BIO RAD LABORATORIES INC; COM B; CONS",
         null,
         null,
         null,
         null,
         "0",
         "3826",
         "N",
         "61508",
         "655"
        ]
       ],
       "shape": {
        "columns": 12,
        "rows": 93
       }
      },
      "text/html": [
       "<div>\n",
       "<style scoped>\n",
       "    .dataframe tbody tr th:only-of-type {\n",
       "        vertical-align: middle;\n",
       "    }\n",
       "\n",
       "    .dataframe tbody tr th {\n",
       "        vertical-align: top;\n",
       "    }\n",
       "\n",
       "    .dataframe thead th {\n",
       "        text-align: right;\n",
       "    }\n",
       "</style>\n",
       "<table border=\"1\" class=\"dataframe\">\n",
       "  <thead>\n",
       "    <tr style=\"text-align: right;\">\n",
       "      <th></th>\n",
       "      <th>DlyCalDt</th>\n",
       "      <th>Ticker</th>\n",
       "      <th>SecurityNm</th>\n",
       "      <th>DlyOpen</th>\n",
       "      <th>DlyHigh</th>\n",
       "      <th>DlyLow</th>\n",
       "      <th>DlyClose</th>\n",
       "      <th>DlyVol</th>\n",
       "      <th>SICCD</th>\n",
       "      <th>PrimaryExch</th>\n",
       "      <th>PERMNO</th>\n",
       "      <th>PERMCO</th>\n",
       "    </tr>\n",
       "  </thead>\n",
       "  <tbody>\n",
       "    <tr>\n",
       "      <th>3660</th>\n",
       "      <td>2025-01-02</td>\n",
       "      <td>BIO</td>\n",
       "      <td>BIO RAD LABORATORIES INC; COM B; CONS</td>\n",
       "      <td>NaN</td>\n",
       "      <td>NaN</td>\n",
       "      <td>NaN</td>\n",
       "      <td>NaN</td>\n",
       "      <td>0</td>\n",
       "      <td>3826</td>\n",
       "      <td>N</td>\n",
       "      <td>61508</td>\n",
       "      <td>655</td>\n",
       "    </tr>\n",
       "    <tr>\n",
       "      <th>3662</th>\n",
       "      <td>2025-01-03</td>\n",
       "      <td>BIO</td>\n",
       "      <td>BIO RAD LABORATORIES INC; COM B; CONS</td>\n",
       "      <td>NaN</td>\n",
       "      <td>NaN</td>\n",
       "      <td>NaN</td>\n",
       "      <td>NaN</td>\n",
       "      <td>0</td>\n",
       "      <td>3826</td>\n",
       "      <td>N</td>\n",
       "      <td>61508</td>\n",
       "      <td>655</td>\n",
       "    </tr>\n",
       "    <tr>\n",
       "      <th>3664</th>\n",
       "      <td>2025-01-06</td>\n",
       "      <td>BIO</td>\n",
       "      <td>BIO RAD LABORATORIES INC; COM B; CONS</td>\n",
       "      <td>NaN</td>\n",
       "      <td>NaN</td>\n",
       "      <td>NaN</td>\n",
       "      <td>NaN</td>\n",
       "      <td>0</td>\n",
       "      <td>3826</td>\n",
       "      <td>N</td>\n",
       "      <td>61508</td>\n",
       "      <td>655</td>\n",
       "    </tr>\n",
       "    <tr>\n",
       "      <th>3666</th>\n",
       "      <td>2025-01-07</td>\n",
       "      <td>BIO</td>\n",
       "      <td>BIO RAD LABORATORIES INC; COM B; CONS</td>\n",
       "      <td>NaN</td>\n",
       "      <td>NaN</td>\n",
       "      <td>NaN</td>\n",
       "      <td>NaN</td>\n",
       "      <td>0</td>\n",
       "      <td>3826</td>\n",
       "      <td>N</td>\n",
       "      <td>61508</td>\n",
       "      <td>655</td>\n",
       "    </tr>\n",
       "    <tr>\n",
       "      <th>3670</th>\n",
       "      <td>2025-01-10</td>\n",
       "      <td>BIO</td>\n",
       "      <td>BIO RAD LABORATORIES INC; COM B; CONS</td>\n",
       "      <td>NaN</td>\n",
       "      <td>NaN</td>\n",
       "      <td>NaN</td>\n",
       "      <td>NaN</td>\n",
       "      <td>0</td>\n",
       "      <td>3826</td>\n",
       "      <td>N</td>\n",
       "      <td>61508</td>\n",
       "      <td>655</td>\n",
       "    </tr>\n",
       "    <tr>\n",
       "      <th>...</th>\n",
       "      <td>...</td>\n",
       "      <td>...</td>\n",
       "      <td>...</td>\n",
       "      <td>...</td>\n",
       "      <td>...</td>\n",
       "      <td>...</td>\n",
       "      <td>...</td>\n",
       "      <td>...</td>\n",
       "      <td>...</td>\n",
       "      <td>...</td>\n",
       "      <td>...</td>\n",
       "      <td>...</td>\n",
       "    </tr>\n",
       "    <tr>\n",
       "      <th>25607</th>\n",
       "      <td>2025-03-20</td>\n",
       "      <td>TAP</td>\n",
       "      <td>MOLSON COORS BEVERAGE CO; COM A; CONS</td>\n",
       "      <td>NaN</td>\n",
       "      <td>NaN</td>\n",
       "      <td>NaN</td>\n",
       "      <td>NaN</td>\n",
       "      <td>0</td>\n",
       "      <td>2082</td>\n",
       "      <td>N</td>\n",
       "      <td>90562</td>\n",
       "      <td>33</td>\n",
       "    </tr>\n",
       "    <tr>\n",
       "      <th>25609</th>\n",
       "      <td>2025-03-21</td>\n",
       "      <td>TAP</td>\n",
       "      <td>MOLSON COORS BEVERAGE CO; COM A; CONS</td>\n",
       "      <td>NaN</td>\n",
       "      <td>NaN</td>\n",
       "      <td>NaN</td>\n",
       "      <td>NaN</td>\n",
       "      <td>0</td>\n",
       "      <td>2082</td>\n",
       "      <td>N</td>\n",
       "      <td>90562</td>\n",
       "      <td>33</td>\n",
       "    </tr>\n",
       "    <tr>\n",
       "      <th>25611</th>\n",
       "      <td>2025-03-24</td>\n",
       "      <td>TAP</td>\n",
       "      <td>MOLSON COORS BEVERAGE CO; COM A; CONS</td>\n",
       "      <td>NaN</td>\n",
       "      <td>NaN</td>\n",
       "      <td>NaN</td>\n",
       "      <td>NaN</td>\n",
       "      <td>0</td>\n",
       "      <td>2082</td>\n",
       "      <td>N</td>\n",
       "      <td>90562</td>\n",
       "      <td>33</td>\n",
       "    </tr>\n",
       "    <tr>\n",
       "      <th>25613</th>\n",
       "      <td>2025-03-25</td>\n",
       "      <td>TAP</td>\n",
       "      <td>MOLSON COORS BEVERAGE CO; COM A; CONS</td>\n",
       "      <td>NaN</td>\n",
       "      <td>NaN</td>\n",
       "      <td>NaN</td>\n",
       "      <td>NaN</td>\n",
       "      <td>0</td>\n",
       "      <td>2082</td>\n",
       "      <td>N</td>\n",
       "      <td>90562</td>\n",
       "      <td>33</td>\n",
       "    </tr>\n",
       "    <tr>\n",
       "      <th>25621</th>\n",
       "      <td>2025-03-31</td>\n",
       "      <td>TAP</td>\n",
       "      <td>MOLSON COORS BEVERAGE CO; COM A; CONS</td>\n",
       "      <td>NaN</td>\n",
       "      <td>NaN</td>\n",
       "      <td>NaN</td>\n",
       "      <td>NaN</td>\n",
       "      <td>0</td>\n",
       "      <td>2082</td>\n",
       "      <td>N</td>\n",
       "      <td>90562</td>\n",
       "      <td>33</td>\n",
       "    </tr>\n",
       "  </tbody>\n",
       "</table>\n",
       "<p>93 rows × 12 columns</p>\n",
       "</div>"
      ],
      "text/plain": [
       "        DlyCalDt Ticker                             SecurityNm  DlyOpen  \\\n",
       "3660  2025-01-02    BIO  BIO RAD LABORATORIES INC; COM B; CONS      NaN   \n",
       "3662  2025-01-03    BIO  BIO RAD LABORATORIES INC; COM B; CONS      NaN   \n",
       "3664  2025-01-06    BIO  BIO RAD LABORATORIES INC; COM B; CONS      NaN   \n",
       "3666  2025-01-07    BIO  BIO RAD LABORATORIES INC; COM B; CONS      NaN   \n",
       "3670  2025-01-10    BIO  BIO RAD LABORATORIES INC; COM B; CONS      NaN   \n",
       "...          ...    ...                                    ...      ...   \n",
       "25607 2025-03-20    TAP  MOLSON COORS BEVERAGE CO; COM A; CONS      NaN   \n",
       "25609 2025-03-21    TAP  MOLSON COORS BEVERAGE CO; COM A; CONS      NaN   \n",
       "25611 2025-03-24    TAP  MOLSON COORS BEVERAGE CO; COM A; CONS      NaN   \n",
       "25613 2025-03-25    TAP  MOLSON COORS BEVERAGE CO; COM A; CONS      NaN   \n",
       "25621 2025-03-31    TAP  MOLSON COORS BEVERAGE CO; COM A; CONS      NaN   \n",
       "\n",
       "       DlyHigh  DlyLow  DlyClose  DlyVol  SICCD PrimaryExch  PERMNO  PERMCO  \n",
       "3660       NaN     NaN       NaN       0   3826           N   61508     655  \n",
       "3662       NaN     NaN       NaN       0   3826           N   61508     655  \n",
       "3664       NaN     NaN       NaN       0   3826           N   61508     655  \n",
       "3666       NaN     NaN       NaN       0   3826           N   61508     655  \n",
       "3670       NaN     NaN       NaN       0   3826           N   61508     655  \n",
       "...        ...     ...       ...     ...    ...         ...     ...     ...  \n",
       "25607      NaN     NaN       NaN       0   2082           N   90562      33  \n",
       "25609      NaN     NaN       NaN       0   2082           N   90562      33  \n",
       "25611      NaN     NaN       NaN       0   2082           N   90562      33  \n",
       "25613      NaN     NaN       NaN       0   2082           N   90562      33  \n",
       "25621      NaN     NaN       NaN       0   2082           N   90562      33  \n",
       "\n",
       "[93 rows x 12 columns]"
      ]
     },
     "execution_count": 30,
     "metadata": {},
     "output_type": "execute_result"
    }
   ],
   "source": [
    "df.isnull().sum()\n",
    "df[df.isnull().any(axis=1)]"
   ]
  },
  {
   "attachments": {},
   "cell_type": "markdown",
   "metadata": {},
   "source": [
    "## Exploring\n",
    "\n",
    "Let's explore this panel data a bit more, to answer some questions:\n",
    "\n",
    "- How many tickers are considered\n",
    "- How many securities are considered\n",
    "- How many companies are considered\n",
    "- Which exchanges are considered\n",
    "- Which exchanges appear most\n"
   ]
  },
  {
   "cell_type": "code",
   "execution_count": null,
   "metadata": {},
   "outputs": [],
   "source": []
  },
  {
   "attachments": {},
   "cell_type": "markdown",
   "metadata": {},
   "source": [
    "## Grouping\n",
    "\n",
    "What if we wanted to calculate daily returns in this data set. Is it as simple as using `pct_change()`? Let's try."
   ]
  },
  {
   "cell_type": "code",
   "execution_count": null,
   "metadata": {},
   "outputs": [],
   "source": []
  },
  {
   "attachments": {},
   "cell_type": "markdown",
   "metadata": {},
   "source": [
    "Can you see what's gone wrong here? Our first calculated daily return for American Airlines is using Agilent's last closing price. This hopefully gets across the importance of *grouping*, particularly useful with this kind of panel data.\n"
   ]
  },
  {
   "attachments": {},
   "cell_type": "markdown",
   "metadata": {},
   "source": [
    "We can solve this with the `groupby()` method of data frames."
   ]
  },
  {
   "cell_type": "code",
   "execution_count": null,
   "metadata": {},
   "outputs": [],
   "source": []
  },
  {
   "attachments": {},
   "cell_type": "markdown",
   "metadata": {},
   "source": [
    "Perfect! Grouping is a very powerful way to manipulate panel data. Once you've grouped, you can call functions and they will be applied groupwise as we saw above. Here are some other common functions with groups:"
   ]
  },
  {
   "cell_type": "code",
   "execution_count": null,
   "metadata": {},
   "outputs": [],
   "source": []
  },
  {
   "cell_type": "markdown",
   "metadata": {},
   "source": [
    "Let's see what else we can do with grouping. Recall that we had more tickers than companies. Let's see why that is by looking at how many unique tickers belong to each company (using `Ticker` and `PERMCO`). Then let's list those companies."
   ]
  },
  {
   "cell_type": "code",
   "execution_count": null,
   "metadata": {},
   "outputs": [],
   "source": []
  },
  {
   "attachments": {},
   "cell_type": "markdown",
   "metadata": {},
   "source": [
    "### Exercise: Tick Tick\n",
    "\n",
    "**Part 1** Identify the number of unique tickers traded on each exchange."
   ]
  },
  {
   "cell_type": "code",
   "execution_count": null,
   "metadata": {},
   "outputs": [],
   "source": [
    "## YOUR CODE GOES HERE"
   ]
  },
  {
   "cell_type": "markdown",
   "metadata": {},
   "source": [
    "**Part 2** Then identify any securities that share a ticker."
   ]
  },
  {
   "cell_type": "code",
   "execution_count": null,
   "metadata": {},
   "outputs": [],
   "source": [
    "## YOUR CODE GOES HERE"
   ]
  },
  {
   "attachments": {},
   "cell_type": "markdown",
   "metadata": {},
   "source": [
    "## Aggregation\n",
    "\n",
    "Aggregation functions like `mean()`, `median()`, `sum()`, `min()`, `max()`, `first()`, `last()` and `std()` can be applied to grouped data to give insights across panel data. Say we wanted the average daily return of each traded security, or the max volume traded on any given day for each security?\n",
    "\n",
    "The exercises above helped us identify that the `PERMNO` column corresponds to unique securities, so let's use that for grouping from now on. "
   ]
  },
  {
   "cell_type": "code",
   "execution_count": null,
   "metadata": {},
   "outputs": [],
   "source": []
  },
  {
   "cell_type": "markdown",
   "metadata": {},
   "source": [
    "Useful, but only to a point. The `PERMNO` value is just a number to most of us. What if we want a ticker or name for the security? Let's look at grouping by multiple columns to help!"
   ]
  },
  {
   "cell_type": "code",
   "execution_count": null,
   "metadata": {},
   "outputs": [],
   "source": []
  },
  {
   "attachments": {},
   "cell_type": "markdown",
   "metadata": {},
   "source": [
    "Once we've done these sorts of aggregation, we're often curious to see who sits at the top or the bottom of the distribution. We can use `nlargest()` and its antonym here. Note that `as_index=False` doesn't work here easily, since these functions refer to the index!"
   ]
  },
  {
   "cell_type": "code",
   "execution_count": null,
   "metadata": {},
   "outputs": [],
   "source": []
  },
  {
   "attachments": {},
   "cell_type": "markdown",
   "metadata": {},
   "source": [
    "We can also group by multiple columns! This can be helpful when doing aggregation, for example, to find high performers in each month. Because our date is just a regular column, we need to specify `.dt` to use any datetime functions."
   ]
  },
  {
   "cell_type": "code",
   "execution_count": null,
   "metadata": {},
   "outputs": [],
   "source": []
  },
  {
   "attachments": {},
   "cell_type": "markdown",
   "metadata": {},
   "source": [
    "### Exercise: Good Days\n",
    "\n",
    "Which two days of the week see the highest average close in this data set, and what is the average close for those days?  "
   ]
  },
  {
   "cell_type": "code",
   "execution_count": null,
   "metadata": {},
   "outputs": [],
   "source": [
    "## YOUR CODE GOES HERE"
   ]
  },
  {
   "attachments": {},
   "cell_type": "markdown",
   "metadata": {},
   "source": [
    "### Exercise: Trading Exchanges\n",
    "\n",
    "Next identify the total trading volume of each exchange."
   ]
  },
  {
   "cell_type": "code",
   "execution_count": null,
   "metadata": {},
   "outputs": [],
   "source": [
    "## YOUR CODE GOES HERE"
   ]
  },
  {
   "cell_type": "markdown",
   "metadata": {},
   "source": [
    "### Exercise: The 1000 Club\n",
    "\n",
    "For securities that reached a closing price above 1000, how many times in each month, did they acheive this?"
   ]
  },
  {
   "cell_type": "code",
   "execution_count": null,
   "metadata": {},
   "outputs": [],
   "source": [
    "## YOUR CODE GOES HERE"
   ]
  },
  {
   "attachments": {},
   "cell_type": "markdown",
   "metadata": {},
   "source": [
    "## Multiple Aggregation\n",
    "\n",
    "We can use the `agg()` method, and pass it a dictionary to do multiple aggregations at once on grouped data. This can be helpful for further analyses, or for producing a more descriptive aggregated data frame."
   ]
  },
  {
   "cell_type": "code",
   "execution_count": null,
   "metadata": {},
   "outputs": [],
   "source": []
  },
  {
   "attachments": {},
   "cell_type": "markdown",
   "metadata": {},
   "source": [
    "### Quick Quarter Query\n",
    "\n",
    "Using multiple aggregation, create an aggregated data frame with ticker and security name, the first open price in the period for each security and the last close price in the period for each security. Create a new column in this aggregated data frame that shows the price difference between final close and initial open for each security."
   ]
  },
  {
   "cell_type": "code",
   "execution_count": 33,
   "metadata": {},
   "outputs": [
    {
     "data": {
      "application/vnd.microsoft.datawrangler.viewer.v0+json": {
       "columns": [
        {
         "name": "PERMNO",
         "rawType": "int64",
         "type": "integer"
        },
        {
         "name": "Ticker",
         "rawType": "object",
         "type": "string"
        },
        {
         "name": "SecurityNm",
         "rawType": "object",
         "type": "string"
        },
        {
         "name": "DlyOpen",
         "rawType": "float64",
         "type": "float"
        },
        {
         "name": "DlyClose",
         "rawType": "float64",
         "type": "float"
        }
       ],
       "ref": "822bfe8c-2cdc-446e-a2c1-1cbc776f63b7",
       "rows": [
        [
         "10104",
         "ORCL",
         "ORACLE CORP; COM NONE; CONS",
         "168.52",
         "139.81"
        ],
        [
         "10107",
         "MSFT",
         "MICROSOFT CORP; COM NONE; CONS",
         "425.53",
         "375.39"
        ],
        [
         "10138",
         "TROW",
         "T ROWE PRICE GROUP INC; COM NONE; CONS",
         "113.68",
         "91.87"
        ],
        [
         "10145",
         "HON",
         "HONEYWELL INTERNATIONAL INC; COM NONE; CONS",
         "227.07",
         "211.75"
        ],
        [
         "10516",
         "ADM",
         "ARCHER DANIELS MIDLAND CO; COM NONE; CONS",
         "51.02",
         "48.01"
        ],
        [
         "10696",
         "FI",
         "FISERV INC; COM NONE; CONS",
         "207.0",
         "220.83"
        ],
        [
         "11308",
         "KO",
         "COCA COLA CO; COM NONE; CONS",
         "62.35",
         "71.62"
        ],
        [
         "11403",
         "CDNS",
         "CADENCE DESIGN SYSTEMS INC; COM NONE; CONS",
         "304.84",
         "254.33"
        ],
        [
         "11404",
         "ED",
         "CONSOLIDATED EDISON INC; COM NONE; CONS",
         "89.73",
         "110.59"
        ],
        [
         "11533",
         "FICO",
         "FAIR ISAAC CORP; COM NONE; CONS",
         "2005.0",
         "1844.16"
        ],
        [
         "11600",
         "XRAY",
         "DENTSPLY SIRONA INC; COM NONE; CONS",
         "19.08",
         "14.94"
        ],
        [
         "11618",
         "FAST",
         "FASTENAL CO; COM NONE; CONS",
         "72.74",
         "77.55"
        ],
        [
         "11674",
         "DTE",
         "D T E ENERGY CO; COM NONE; CONS",
         "122.83",
         "138.27"
        ],
        [
         "11762",
         "ETN",
         "EATON CORP PLC; COM NONE; CONS",
         "334.68",
         "271.83"
        ],
        [
         "11850",
         "XOM",
         "EXXON MOBIL CORP; COM NONE; CONS",
         "108.275",
         "118.93"
        ],
        [
         "11891",
         "MGM",
         "M G M RESORTS INTERNATIONAL; COM NONE; CONS",
         "34.89",
         "29.64"
        ],
        [
         "11955",
         "WM",
         "WASTE MANAGEMENT INC DEL; COM NONE; CONS",
         "202.87",
         "231.51"
        ],
        [
         "12052",
         "GD",
         "GENERAL DYNAMICS CORP; COM NONE; CONS",
         "264.9",
         "272.58"
        ],
        [
         "12060",
         "GE",
         "GENERAL ELECTRIC CO; COM NONE; CONS",
         "167.92",
         "200.15"
        ],
        [
         "12062",
         "LH",
         "LABCORP HOLDINGS INC; COM NONE; CONS",
         "230.71",
         "232.74"
        ],
        [
         "12084",
         "NXPI",
         "N X P SEMICONDUCTORS N V; COM NONE; CONS",
         "209.61",
         "190.06"
        ],
        [
         "12308",
         "CHTR",
         "CHARTER COMMUNICATIONS INC NEW; COM A; CONS",
         "346.62",
         "368.53"
        ],
        [
         "12345",
         "LYB",
         "LYONDELLBASELL INDUSTRIES N V; COM A; CONS",
         "74.45",
         "70.4"
        ],
        [
         "12369",
         "GM",
         "GENERAL MOTORS CO; COM NONE; CONS",
         "53.32",
         "47.03"
        ],
        [
         "12431",
         "TT",
         "TRANE TECHNOLOGIES PLC; COM NONE; CONS",
         "371.03",
         "336.92"
        ],
        [
         "12476",
         "TRGP",
         "TARGA RESOURCES CORP; COM NONE; CONS",
         "180.17",
         "200.47"
        ],
        [
         "12490",
         "IBM",
         "INTERNATIONAL BUSINESS MACHS COR; COM NONE; CONS",
         "221.82",
         "248.66"
        ],
        [
         "12558",
         "KMI",
         "KINDER MORGAN INC; COM P; CONS",
         "27.62",
         "28.53"
        ],
        [
         "12622",
         "HCA",
         "H C A HEALTHCARE INC; COM NONE; CONS",
         "302.89",
         "345.55"
        ],
        [
         "12623",
         "HII",
         "HUNTINGTON INGALLS INDS INC; COM NONE; CONS",
         "189.84",
         "204.04"
        ],
        [
         "12872",
         "MPC",
         "MARATHON PETROLEUM CORP; COM NONE; CONS",
         "140.5",
         "145.69"
        ],
        [
         "13035",
         "XYL",
         "XYLEM INC; COM NONE; CONS",
         "117.02",
         "119.46"
        ],
        [
         "13103",
         "APTV",
         "APTIV PLC NEW; COM NONE; CONS",
         "60.67",
         "59.5"
        ],
        [
         "13210",
         "EPAM",
         "EPAM SYSTEMS INC; COM NONE; CONS",
         "236.14",
         "168.84"
        ],
        [
         "13323",
         "ENPH",
         "ENPHASE ENERGY INC; COM NONE; CONS",
         "70.19",
         "62.05"
        ],
        [
         "13356",
         "PSX",
         "PHILLIPS 66; COM NONE; CONS",
         "114.76",
         "123.48"
        ],
        [
         "13407",
         "META",
         "META PLATFORMS INC; COM A; CONS",
         "589.72",
         "576.36"
        ],
        [
         "13447",
         "NOW",
         "SERVICENOW INC; COM NONE; CONS",
         "1073.52",
         "796.14"
        ],
        [
         "13511",
         "PANW",
         "PALO ALTO NETWORKS INC; COM NONE; CONS",
         "184.5",
         "170.64"
        ],
        [
         "13586",
         "PNR",
         "PENTAIR PLC; COM NONE; CONS",
         "101.11",
         "87.48"
        ],
        [
         "13641",
         "FANG",
         "DIAMONDBACK ENERGY INC; COM NONE; CONS",
         "166.15",
         "159.88"
        ],
        [
         "13688",
         "PCG",
         "P G & E CORP; COM NONE; CONS",
         "20.27",
         "17.18"
        ],
        [
         "13721",
         "ABBV",
         "ABBVIE INC; COM NONE; CONS",
         "178.66",
         "209.52"
        ],
        [
         "13760",
         "NCLH",
         "NORWEGIAN CRUISE LINE HLDGS LTD; COM NONE; CONS",
         "26.18",
         "18.96"
        ],
        [
         "13788",
         "ZTS",
         "ZOETIS INC; COM A; CONS",
         "164.87",
         "164.65"
        ],
        [
         "13856",
         "PEP",
         "PEPSICO INC; COM NONE; CONS",
         "152.88",
         "149.94"
        ],
        [
         "13901",
         "MO",
         "ALTRIA GROUP INC; COM NONE; CONS",
         "52.46",
         "60.02"
        ],
        [
         "13911",
         "IQV",
         "IQVIA HOLDINGS INC; COM NONE; CONS",
         "198.82",
         "176.3"
        ],
        [
         "13928",
         "COP",
         "CONOCOPHILLIPS; COM NONE; CONS",
         "100.0",
         "105.02"
        ],
        [
         "13949",
         "CDW",
         "C D W CORP NEW; COM NONE; CONS",
         "174.53",
         "160.26"
        ]
       ],
       "shape": {
        "columns": 4,
        "rows": 498
       }
      },
      "text/html": [
       "<div>\n",
       "<style scoped>\n",
       "    .dataframe tbody tr th:only-of-type {\n",
       "        vertical-align: middle;\n",
       "    }\n",
       "\n",
       "    .dataframe tbody tr th {\n",
       "        vertical-align: top;\n",
       "    }\n",
       "\n",
       "    .dataframe thead th {\n",
       "        text-align: right;\n",
       "    }\n",
       "</style>\n",
       "<table border=\"1\" class=\"dataframe\">\n",
       "  <thead>\n",
       "    <tr style=\"text-align: right;\">\n",
       "      <th></th>\n",
       "      <th>Ticker</th>\n",
       "      <th>SecurityNm</th>\n",
       "      <th>DlyOpen</th>\n",
       "      <th>DlyClose</th>\n",
       "    </tr>\n",
       "    <tr>\n",
       "      <th>PERMNO</th>\n",
       "      <th></th>\n",
       "      <th></th>\n",
       "      <th></th>\n",
       "      <th></th>\n",
       "    </tr>\n",
       "  </thead>\n",
       "  <tbody>\n",
       "    <tr>\n",
       "      <th>10104</th>\n",
       "      <td>ORCL</td>\n",
       "      <td>ORACLE CORP; COM NONE; CONS</td>\n",
       "      <td>168.52</td>\n",
       "      <td>139.81</td>\n",
       "    </tr>\n",
       "    <tr>\n",
       "      <th>10107</th>\n",
       "      <td>MSFT</td>\n",
       "      <td>MICROSOFT CORP; COM NONE; CONS</td>\n",
       "      <td>425.53</td>\n",
       "      <td>375.39</td>\n",
       "    </tr>\n",
       "    <tr>\n",
       "      <th>10138</th>\n",
       "      <td>TROW</td>\n",
       "      <td>T ROWE PRICE GROUP INC; COM NONE; CONS</td>\n",
       "      <td>113.68</td>\n",
       "      <td>91.87</td>\n",
       "    </tr>\n",
       "    <tr>\n",
       "      <th>10145</th>\n",
       "      <td>HON</td>\n",
       "      <td>HONEYWELL INTERNATIONAL INC; COM NONE; CONS</td>\n",
       "      <td>227.07</td>\n",
       "      <td>211.75</td>\n",
       "    </tr>\n",
       "    <tr>\n",
       "      <th>10516</th>\n",
       "      <td>ADM</td>\n",
       "      <td>ARCHER DANIELS MIDLAND CO; COM NONE; CONS</td>\n",
       "      <td>51.02</td>\n",
       "      <td>48.01</td>\n",
       "    </tr>\n",
       "    <tr>\n",
       "      <th>...</th>\n",
       "      <td>...</td>\n",
       "      <td>...</td>\n",
       "      <td>...</td>\n",
       "      <td>...</td>\n",
       "    </tr>\n",
       "    <tr>\n",
       "      <th>93096</th>\n",
       "      <td>DG</td>\n",
       "      <td>DOLLAR GENERAL CORP NEW; COM NONE; CONS</td>\n",
       "      <td>76.30</td>\n",
       "      <td>87.93</td>\n",
       "    </tr>\n",
       "    <tr>\n",
       "      <th>93132</th>\n",
       "      <td>FTNT</td>\n",
       "      <td>FORTINET INC; COM NONE; CONS</td>\n",
       "      <td>95.36</td>\n",
       "      <td>96.26</td>\n",
       "    </tr>\n",
       "    <tr>\n",
       "      <th>93246</th>\n",
       "      <td>GNRC</td>\n",
       "      <td>GENERAC HOLDINGS INC; COM NONE; CONS</td>\n",
       "      <td>157.50</td>\n",
       "      <td>126.65</td>\n",
       "    </tr>\n",
       "    <tr>\n",
       "      <th>93429</th>\n",
       "      <td>CBOE</td>\n",
       "      <td>C B O E GLOBAL MARKETS INC; COM NONE; CONS</td>\n",
       "      <td>196.35</td>\n",
       "      <td>226.29</td>\n",
       "    </tr>\n",
       "    <tr>\n",
       "      <th>93436</th>\n",
       "      <td>TSLA</td>\n",
       "      <td>TESLA INC; COM NONE; CONS</td>\n",
       "      <td>390.10</td>\n",
       "      <td>259.16</td>\n",
       "    </tr>\n",
       "  </tbody>\n",
       "</table>\n",
       "<p>498 rows × 4 columns</p>\n",
       "</div>"
      ],
      "text/plain": [
       "       Ticker                                   SecurityNm  DlyOpen  DlyClose\n",
       "PERMNO                                                                       \n",
       "10104    ORCL                  ORACLE CORP; COM NONE; CONS   168.52    139.81\n",
       "10107    MSFT               MICROSOFT CORP; COM NONE; CONS   425.53    375.39\n",
       "10138    TROW       T ROWE PRICE GROUP INC; COM NONE; CONS   113.68     91.87\n",
       "10145     HON  HONEYWELL INTERNATIONAL INC; COM NONE; CONS   227.07    211.75\n",
       "10516     ADM    ARCHER DANIELS MIDLAND CO; COM NONE; CONS    51.02     48.01\n",
       "...       ...                                          ...      ...       ...\n",
       "93096      DG      DOLLAR GENERAL CORP NEW; COM NONE; CONS    76.30     87.93\n",
       "93132    FTNT                 FORTINET INC; COM NONE; CONS    95.36     96.26\n",
       "93246    GNRC         GENERAC HOLDINGS INC; COM NONE; CONS   157.50    126.65\n",
       "93429    CBOE   C B O E GLOBAL MARKETS INC; COM NONE; CONS   196.35    226.29\n",
       "93436    TSLA                    TESLA INC; COM NONE; CONS   390.10    259.16\n",
       "\n",
       "[498 rows x 4 columns]"
      ]
     },
     "execution_count": 33,
     "metadata": {},
     "output_type": "execute_result"
    }
   ],
   "source": [
    "df.groupby(\"PERMNO\").agg(\n",
    "    {\n",
    "        \"Ticker\": \"first\",\n",
    "        \"SecurityNm\": \"first\",\n",
    "        \"DlyOpen\": \"first\",\n",
    "        \"DlyClose\": \"last\"\n",
    "     }\n",
    ")\n"
   ]
  },
  {
   "cell_type": "code",
   "execution_count": null,
   "metadata": {},
   "outputs": [],
   "source": []
  }
 ],
 "metadata": {
  "kernelspec": {
   "display_name": "Python 3",
   "language": "python",
   "name": "python3"
  },
  "language_info": {
   "codemirror_mode": {
    "name": "ipython",
    "version": 3
   },
   "file_extension": ".py",
   "mimetype": "text/x-python",
   "name": "python",
   "nbconvert_exporter": "python",
   "pygments_lexer": "ipython3",
   "version": "3.12.1"
  }
 },
 "nbformat": 4,
 "nbformat_minor": 2
}
