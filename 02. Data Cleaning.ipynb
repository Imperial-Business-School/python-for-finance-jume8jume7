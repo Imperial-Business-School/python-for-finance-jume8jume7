{
 "cells": [
  {
   "attachments": {},
   "cell_type": "markdown",
   "metadata": {},
   "source": [
    "## Data Cleaning\n",
    "\n",
    "Let's load the some data for TSLA. Unfortunately, this data is not quite as *clean* as our NVDA data, so we'll need to do some data wrangling. The file we're looking to load is `TSLA_2015_2024.csv`."
   ]
  },
  {
   "cell_type": "code",
   "execution_count": 3,
   "metadata": {},
   "outputs": [],
   "source": [
    "import pandas as pd"
   ]
  },
  {
   "cell_type": "code",
   "execution_count": 4,
   "metadata": {},
   "outputs": [
    {
     "data": {
      "application/vnd.microsoft.datawrangler.viewer.v0+json": {
       "columns": [
        {
         "name": "index",
         "rawType": "int64",
         "type": "integer"
        },
        {
         "name": "Date",
         "rawType": "object",
         "type": "string"
        },
        {
         "name": "Close",
         "rawType": "float64",
         "type": "float"
        },
        {
         "name": "High",
         "rawType": "float64",
         "type": "float"
        },
        {
         "name": "Low",
         "rawType": "float64",
         "type": "float"
        },
        {
         "name": "Open",
         "rawType": "float64",
         "type": "float"
        },
        {
         "name": "Volume",
         "rawType": "float64",
         "type": "float"
        }
       ],
       "ref": "b40e318e-4b85-45bf-80a7-53648356071f",
       "rows": [
        [
         "0",
         "11/07/2024",
         "241.02999877929688",
         "271.0",
         "239.6499938964844",
         "263.29998779296875",
         "221707300.0"
        ],
        [
         "1",
         "13/08/2020",
         "108.06666564941406",
         "110.07866668701172",
         "104.48400115966795",
         "107.4000015258789",
         "306379500.0"
        ],
        [
         "2",
         "13/08/2020",
         "108.06666564941406",
         "110.07866668701172",
         "104.48400115966795",
         "107.4000015258789",
         "306379500.0"
        ],
        [
         "3",
         "30/10/2019",
         "21.000667572021484",
         "21.252666473388672",
         "20.6646671295166",
         "20.86666679382324",
         "144627000.0"
        ],
        [
         "4",
         "27/08/2015",
         "16.19933319091797",
         null,
         "15.387332916259766",
         "15.399999618530272",
         "114840000.0"
        ],
        [
         "5",
         "04/03/2021",
         "207.14666748046875",
         "222.8166656494141",
         "200.0",
         "218.6000061035156",
         "197758500.0"
        ],
        [
         "6",
         "30/12/2024",
         "417.4100036621094",
         "427.0",
         "415.75",
         "419.3999938964844",
         "64941000.0"
        ],
        [
         "7",
         "24/01/2022",
         "310.0",
         "311.1700134277344",
         "283.8233337402344",
         "301.586669921875",
         "151565700.0"
        ],
        [
         "8",
         "02/08/2018",
         "23.30266761779785",
         "23.332666397094727",
         "21.54400062561035",
         "21.895999908447266",
         null
        ],
        [
         "9",
         "24/04/2023",
         "162.5500030517578",
         "165.64999389648438",
         null,
         "164.64999389648438",
         "140006600.0"
        ],
        [
         "10",
         "11/08/2022",
         "286.6300048828125",
         "298.2366638183594",
         null,
         "296.5133361816406",
         "70155000.0"
        ],
        [
         "11",
         "29/06/2020",
         "67.29000091552734",
         "67.33333587646484",
         "63.23466873168945",
         "64.60066986083984",
         "135396000.0"
        ],
        [
         "12",
         "08/07/2021",
         "217.60333251953125",
         "218.1433258056641",
         "206.82000732421875",
         "209.4566650390625",
         "68319900.0"
        ],
        [
         "13",
         "05/06/2020",
         "59.04399871826172",
         "59.10133361816406",
         "57.74666595458984",
         "58.52266693115234",
         "117178500.0"
        ],
        [
         "14",
         "04/01/2022",
         "383.1966552734375",
         "402.6666564941406",
         "374.3500061035156",
         "396.51666259765625",
         "100248300.0"
        ],
        [
         "15",
         "30/10/2017",
         "21.338666915893555",
         "21.5853328704834",
         "21.149999618530277",
         "21.27866744995117",
         "63816000.0"
        ],
        [
         "16",
         "31/10/2023",
         "200.83999633789065",
         "202.8000030517578",
         "194.07000732421875",
         "196.1199951171875",
         "118068300.0"
        ],
        [
         "17",
         "30/03/2016",
         "15.12600040435791",
         "15.699999809265137",
         "15.100000381469728",
         "15.672666549682615",
         "60495000.0"
        ],
        [
         "18",
         "28/12/2021",
         "362.8233337402344",
         "373.0",
         "359.47332763671875",
         "369.8299865722656",
         "60324000.0"
        ],
        [
         "19",
         "27/06/2016",
         "13.236666679382324",
         "13.253999710083008",
         "12.524666786193848",
         "12.723999977111816",
         "108081000.0"
        ],
        [
         "20",
         "20/02/2020",
         "59.96066665649414",
         "60.79999923706055",
         null,
         "60.79666519165039",
         "264523500.0"
        ],
        [
         "21",
         "27/11/2015",
         "15.440667152404783",
         "15.483332633972168",
         "15.133999824523926",
         "15.404000282287598",
         "29241000.0"
        ],
        [
         "22",
         "08/11/2023",
         "222.1100006103516",
         "224.1499938964844",
         "217.63999938964844",
         "223.1499938964844",
         "106584800.0"
        ],
        [
         "23",
         "05/07/2018",
         "20.610666275024418",
         "20.959333419799805",
         "19.74799919128418",
         "20.917333602905277",
         "262146000.0"
        ],
        [
         "24",
         "05/02/2019",
         "21.42333221435547",
         "21.496000289916992",
         "20.81666755676269",
         "20.832666397094727",
         "101142000.0"
        ],
        [
         "25",
         "24/12/2020",
         "220.58999633789065",
         "222.02999877929688",
         "213.6666717529297",
         "214.3300018310547",
         "68596800.0"
        ],
        [
         "26",
         "25/01/2023",
         "144.42999267578125",
         "146.41000366210938",
         "138.07000732421875",
         "141.91000366210938",
         "192734300.0"
        ],
        [
         "27",
         "16/12/2020",
         "207.58999633789065",
         "210.8333282470703",
         "201.6666717529297",
         "209.41000366210932",
         "126287400.0"
        ],
        [
         "28",
         "03/12/2020",
         "197.7933349609375",
         "199.6566619873047",
         "194.1433258056641",
         "196.67333984375",
         "127656000.0"
        ],
        [
         "29",
         "15/02/2022",
         null,
         "307.6666564941406",
         "297.7933349609375",
         "300.0",
         "57286200.0"
        ],
        [
         "30",
         "14/01/2015",
         "12.845999717712402",
         "13.013333320617676",
         "12.333333015441896",
         "12.388667106628418",
         "173278500.0"
        ],
        [
         "31",
         "13/09/2023",
         "271.29998779296875",
         "274.9800109863281",
         "268.1000061035156",
         null,
         "111673700.0"
        ],
        [
         "32",
         "01/12/2022",
         "194.6999969482422",
         "198.9199981689453",
         "191.8000030517578",
         "197.0800018310547",
         "80046200.0"
        ],
        [
         "33",
         "07/08/2024",
         "191.7599945068359",
         "203.4900054931641",
         "191.47999572753903",
         "200.77000427246097",
         "71159800.0"
        ],
        [
         "34",
         "08/12/2015",
         "15.114666938781738",
         "15.25333309173584",
         "14.946666717529297",
         "15.16800022125244",
         "40314000.0"
        ],
        [
         "35",
         "13/03/2020",
         "36.44133377075195",
         null,
         "33.46666717529297",
         "39.66666793823242",
         "339604500.0"
        ],
        [
         "36",
         "10/01/2019",
         "22.99799919128418",
         "23.025999069213867",
         "22.11933326721191",
         "22.293333053588867",
         "90846000.0"
        ],
        [
         "37",
         "03/06/2021",
         "190.94667053222656",
         "201.51666259765625",
         "190.4066619873047",
         "200.6000061035156",
         "90335700.0"
        ],
        [
         "38",
         "17/03/2017",
         "17.433332443237305",
         "17.68866729736328",
         "17.413333892822266",
         "17.600000381469727",
         "97462500.0"
        ],
        [
         "39",
         "30/04/2018",
         "19.593332290649418",
         "19.915332794189453",
         "19.5",
         "19.573999404907227",
         "63423000.0"
        ],
        [
         "40",
         "29/07/2024",
         "232.1000061035156",
         "234.27000427246097",
         "224.6999969482422",
         "224.8999938964844",
         "129201800.0"
        ],
        [
         "41",
         "17/06/2019",
         "15.001999855041504",
         "15.133333206176758",
         "14.284667015075684",
         "14.36533260345459",
         "184752000.0"
        ],
        [
         "42",
         "19/05/2015",
         "16.47599983215332",
         "16.733333587646484",
         "16.40999984741211",
         "16.562000274658203",
         "55113000.0"
        ],
        [
         "43",
         "05/09/2023",
         "256.489990234375",
         "258.0",
         "244.8600006103516",
         "245.0",
         "129469600.0"
        ],
        [
         "44",
         "13/07/2015",
         "17.477333068847656",
         "17.503332138061523",
         "17.06999969482422",
         "17.483333587646484",
         "44404500.0"
        ],
        [
         "45",
         "12/01/2016",
         "13.998000144958496",
         "14.249333381652832",
         "13.687333106994627",
         "14.106666564941406",
         "46378500.0"
        ],
        [
         "46",
         "07/12/2020",
         "213.9199981689453",
         "216.26333618164065",
         "201.01666259765625",
         "201.63999938964844",
         "168929100.0"
        ],
        [
         "47",
         "01/09/2021",
         "244.69667053222656",
         "247.3300018310547",
         "243.7566680908203",
         "244.69332885742188",
         "39612900.0"
        ],
        [
         "48",
         "11/09/2017",
         "24.246000289916992",
         "24.247333526611328",
         "23.33333206176757",
         "23.42333221435547",
         "115006500.0"
        ],
        [
         "49",
         "11/03/2016",
         "13.833333015441896",
         "13.961333274841309",
         "13.68866729736328",
         "13.862000465393066",
         "50146500.0"
        ]
       ],
       "shape": {
        "columns": 6,
        "rows": 2566
       }
      },
      "text/html": [
       "<div>\n",
       "<style scoped>\n",
       "    .dataframe tbody tr th:only-of-type {\n",
       "        vertical-align: middle;\n",
       "    }\n",
       "\n",
       "    .dataframe tbody tr th {\n",
       "        vertical-align: top;\n",
       "    }\n",
       "\n",
       "    .dataframe thead th {\n",
       "        text-align: right;\n",
       "    }\n",
       "</style>\n",
       "<table border=\"1\" class=\"dataframe\">\n",
       "  <thead>\n",
       "    <tr style=\"text-align: right;\">\n",
       "      <th></th>\n",
       "      <th>Date</th>\n",
       "      <th>Close</th>\n",
       "      <th>High</th>\n",
       "      <th>Low</th>\n",
       "      <th>Open</th>\n",
       "      <th>Volume</th>\n",
       "    </tr>\n",
       "  </thead>\n",
       "  <tbody>\n",
       "    <tr>\n",
       "      <th>0</th>\n",
       "      <td>11/07/2024</td>\n",
       "      <td>241.029999</td>\n",
       "      <td>271.000000</td>\n",
       "      <td>239.649994</td>\n",
       "      <td>263.299988</td>\n",
       "      <td>221707300.0</td>\n",
       "    </tr>\n",
       "    <tr>\n",
       "      <th>1</th>\n",
       "      <td>13/08/2020</td>\n",
       "      <td>108.066666</td>\n",
       "      <td>110.078667</td>\n",
       "      <td>104.484001</td>\n",
       "      <td>107.400002</td>\n",
       "      <td>306379500.0</td>\n",
       "    </tr>\n",
       "    <tr>\n",
       "      <th>2</th>\n",
       "      <td>13/08/2020</td>\n",
       "      <td>108.066666</td>\n",
       "      <td>110.078667</td>\n",
       "      <td>104.484001</td>\n",
       "      <td>107.400002</td>\n",
       "      <td>306379500.0</td>\n",
       "    </tr>\n",
       "    <tr>\n",
       "      <th>3</th>\n",
       "      <td>30/10/2019</td>\n",
       "      <td>21.000668</td>\n",
       "      <td>21.252666</td>\n",
       "      <td>20.664667</td>\n",
       "      <td>20.866667</td>\n",
       "      <td>144627000.0</td>\n",
       "    </tr>\n",
       "    <tr>\n",
       "      <th>4</th>\n",
       "      <td>27/08/2015</td>\n",
       "      <td>16.199333</td>\n",
       "      <td>NaN</td>\n",
       "      <td>15.387333</td>\n",
       "      <td>15.400000</td>\n",
       "      <td>114840000.0</td>\n",
       "    </tr>\n",
       "    <tr>\n",
       "      <th>...</th>\n",
       "      <td>...</td>\n",
       "      <td>...</td>\n",
       "      <td>...</td>\n",
       "      <td>...</td>\n",
       "      <td>...</td>\n",
       "      <td>...</td>\n",
       "    </tr>\n",
       "    <tr>\n",
       "      <th>2561</th>\n",
       "      <td>10/08/2018</td>\n",
       "      <td>23.699333</td>\n",
       "      <td>24.000000</td>\n",
       "      <td>23.066668</td>\n",
       "      <td>23.600000</td>\n",
       "      <td>173280000.0</td>\n",
       "    </tr>\n",
       "    <tr>\n",
       "      <th>2562</th>\n",
       "      <td>21/06/2021</td>\n",
       "      <td>206.943329</td>\n",
       "      <td>210.463333</td>\n",
       "      <td>202.960007</td>\n",
       "      <td>208.160004</td>\n",
       "      <td>74438100.0</td>\n",
       "    </tr>\n",
       "    <tr>\n",
       "      <th>2563</th>\n",
       "      <td>20/06/2016</td>\n",
       "      <td>14.646667</td>\n",
       "      <td>14.916667</td>\n",
       "      <td>14.548667</td>\n",
       "      <td>14.633333</td>\n",
       "      <td>53332500.0</td>\n",
       "    </tr>\n",
       "    <tr>\n",
       "      <th>2564</th>\n",
       "      <td>21/02/2019</td>\n",
       "      <td>19.415333</td>\n",
       "      <td>20.216000</td>\n",
       "      <td>19.366667</td>\n",
       "      <td>20.120667</td>\n",
       "      <td>133638000.0</td>\n",
       "    </tr>\n",
       "    <tr>\n",
       "      <th>2565</th>\n",
       "      <td>14/05/2019</td>\n",
       "      <td>15.487333</td>\n",
       "      <td>15.633333</td>\n",
       "      <td>15.200000</td>\n",
       "      <td>15.286667</td>\n",
       "      <td>108786000.0</td>\n",
       "    </tr>\n",
       "  </tbody>\n",
       "</table>\n",
       "<p>2566 rows × 6 columns</p>\n",
       "</div>"
      ],
      "text/plain": [
       "            Date       Close        High         Low        Open       Volume\n",
       "0     11/07/2024  241.029999  271.000000  239.649994  263.299988  221707300.0\n",
       "1     13/08/2020  108.066666  110.078667  104.484001  107.400002  306379500.0\n",
       "2     13/08/2020  108.066666  110.078667  104.484001  107.400002  306379500.0\n",
       "3     30/10/2019   21.000668   21.252666   20.664667   20.866667  144627000.0\n",
       "4     27/08/2015   16.199333         NaN   15.387333   15.400000  114840000.0\n",
       "...          ...         ...         ...         ...         ...          ...\n",
       "2561  10/08/2018   23.699333   24.000000   23.066668   23.600000  173280000.0\n",
       "2562  21/06/2021  206.943329  210.463333  202.960007  208.160004   74438100.0\n",
       "2563  20/06/2016   14.646667   14.916667   14.548667   14.633333   53332500.0\n",
       "2564  21/02/2019   19.415333   20.216000   19.366667   20.120667  133638000.0\n",
       "2565  14/05/2019   15.487333   15.633333   15.200000   15.286667  108786000.0\n",
       "\n",
       "[2566 rows x 6 columns]"
      ]
     },
     "execution_count": 4,
     "metadata": {},
     "output_type": "execute_result"
    }
   ],
   "source": [
    "df = pd.read_csv(\"data/TSLA_2015_2024.csv\")\n",
    "df"
   ]
  },
  {
   "attachments": {},
   "cell_type": "markdown",
   "metadata": {},
   "source": [
    "Can you see what we mean by messy? How many issues can you spot?\n",
    "\n",
    "- Dates out of order\n",
    "- Duplicate rows\n",
    "- Missing values\n",
    "\n",
    "## Ordering and Duplicates\n",
    "\n",
    "First let's start with sorting the index."
   ]
  },
  {
   "cell_type": "code",
   "execution_count": 5,
   "metadata": {},
   "outputs": [
    {
     "data": {
      "text/plain": [
       "True"
      ]
     },
     "execution_count": 5,
     "metadata": {},
     "output_type": "execute_result"
    }
   ],
   "source": [
    "df.index.is_monotonic_increasing\n",
    "\n",
    "df.sort_index(inplace=True)\n",
    "\n",
    "df.index.is_monotonic_increasing"
   ]
  },
  {
   "attachments": {},
   "cell_type": "markdown",
   "metadata": {},
   "source": [
    "Now let's focus on duplicates:"
   ]
  },
  {
   "cell_type": "code",
   "execution_count": null,
   "metadata": {},
   "outputs": [],
   "source": []
  },
  {
   "cell_type": "markdown",
   "metadata": {},
   "source": [
    "#### Tip: Method Chaining\n",
    "\n",
    "**Method chaining** is a popular feature of pandas. It allows us to *chain* together several operations in a single line of code. For example, we can set the index, sort the data frame and drop any duplicates all at once. Notice we don't use `inplace` but rather re-assign to the original `df` variable.\n",
    "\n",
    "```python\n",
    "df = df.set_index(\"Date\").sort_index().drop_duplicates()\n",
    "```"
   ]
  },
  {
   "attachments": {},
   "cell_type": "markdown",
   "metadata": {},
   "source": [
    "## Not a Number (NaN)\n",
    "\n",
    "### Exercise: Some Null Chain\n",
    "\n",
    "Let's look at the missing or `NaN` values next. Previously, we saw that `info()` gave us some insight into how many missing values we had, but we can also use `isnull()`.\n",
    "\n",
    "Can you chain `isnull()` with `sum()` to get a single value stating the total number of missing values in the data frame?"
   ]
  },
  {
   "cell_type": "code",
   "execution_count": 6,
   "metadata": {},
   "outputs": [
    {
     "data": {
      "application/vnd.microsoft.datawrangler.viewer.v0+json": {
       "columns": [
        {
         "name": "index",
         "rawType": "int64",
         "type": "integer"
        },
        {
         "name": "Date",
         "rawType": "bool",
         "type": "boolean"
        },
        {
         "name": "Close",
         "rawType": "bool",
         "type": "boolean"
        },
        {
         "name": "High",
         "rawType": "bool",
         "type": "boolean"
        },
        {
         "name": "Low",
         "rawType": "bool",
         "type": "boolean"
        },
        {
         "name": "Open",
         "rawType": "bool",
         "type": "boolean"
        },
        {
         "name": "Volume",
         "rawType": "bool",
         "type": "boolean"
        }
       ],
       "ref": "b7275ad0-a9eb-4428-b0d6-e6727475bb93",
       "rows": [
        [
         "0",
         "False",
         "False",
         "False",
         "False",
         "False",
         "False"
        ],
        [
         "1",
         "False",
         "False",
         "False",
         "False",
         "False",
         "False"
        ],
        [
         "2",
         "False",
         "False",
         "False",
         "False",
         "False",
         "False"
        ],
        [
         "3",
         "False",
         "False",
         "False",
         "False",
         "False",
         "False"
        ],
        [
         "4",
         "False",
         "False",
         "True",
         "False",
         "False",
         "False"
        ],
        [
         "5",
         "False",
         "False",
         "False",
         "False",
         "False",
         "False"
        ],
        [
         "6",
         "False",
         "False",
         "False",
         "False",
         "False",
         "False"
        ],
        [
         "7",
         "False",
         "False",
         "False",
         "False",
         "False",
         "False"
        ],
        [
         "8",
         "False",
         "False",
         "False",
         "False",
         "False",
         "True"
        ],
        [
         "9",
         "False",
         "False",
         "False",
         "True",
         "False",
         "False"
        ],
        [
         "10",
         "False",
         "False",
         "False",
         "True",
         "False",
         "False"
        ],
        [
         "11",
         "False",
         "False",
         "False",
         "False",
         "False",
         "False"
        ],
        [
         "12",
         "False",
         "False",
         "False",
         "False",
         "False",
         "False"
        ],
        [
         "13",
         "False",
         "False",
         "False",
         "False",
         "False",
         "False"
        ],
        [
         "14",
         "False",
         "False",
         "False",
         "False",
         "False",
         "False"
        ],
        [
         "15",
         "False",
         "False",
         "False",
         "False",
         "False",
         "False"
        ],
        [
         "16",
         "False",
         "False",
         "False",
         "False",
         "False",
         "False"
        ],
        [
         "17",
         "False",
         "False",
         "False",
         "False",
         "False",
         "False"
        ],
        [
         "18",
         "False",
         "False",
         "False",
         "False",
         "False",
         "False"
        ],
        [
         "19",
         "False",
         "False",
         "False",
         "False",
         "False",
         "False"
        ],
        [
         "20",
         "False",
         "False",
         "False",
         "True",
         "False",
         "False"
        ],
        [
         "21",
         "False",
         "False",
         "False",
         "False",
         "False",
         "False"
        ],
        [
         "22",
         "False",
         "False",
         "False",
         "False",
         "False",
         "False"
        ],
        [
         "23",
         "False",
         "False",
         "False",
         "False",
         "False",
         "False"
        ],
        [
         "24",
         "False",
         "False",
         "False",
         "False",
         "False",
         "False"
        ],
        [
         "25",
         "False",
         "False",
         "False",
         "False",
         "False",
         "False"
        ],
        [
         "26",
         "False",
         "False",
         "False",
         "False",
         "False",
         "False"
        ],
        [
         "27",
         "False",
         "False",
         "False",
         "False",
         "False",
         "False"
        ],
        [
         "28",
         "False",
         "False",
         "False",
         "False",
         "False",
         "False"
        ],
        [
         "29",
         "False",
         "True",
         "False",
         "False",
         "False",
         "False"
        ],
        [
         "30",
         "False",
         "False",
         "False",
         "False",
         "False",
         "False"
        ],
        [
         "31",
         "False",
         "False",
         "False",
         "False",
         "True",
         "False"
        ],
        [
         "32",
         "False",
         "False",
         "False",
         "False",
         "False",
         "False"
        ],
        [
         "33",
         "False",
         "False",
         "False",
         "False",
         "False",
         "False"
        ],
        [
         "34",
         "False",
         "False",
         "False",
         "False",
         "False",
         "False"
        ],
        [
         "35",
         "False",
         "False",
         "True",
         "False",
         "False",
         "False"
        ],
        [
         "36",
         "False",
         "False",
         "False",
         "False",
         "False",
         "False"
        ],
        [
         "37",
         "False",
         "False",
         "False",
         "False",
         "False",
         "False"
        ],
        [
         "38",
         "False",
         "False",
         "False",
         "False",
         "False",
         "False"
        ],
        [
         "39",
         "False",
         "False",
         "False",
         "False",
         "False",
         "False"
        ],
        [
         "40",
         "False",
         "False",
         "False",
         "False",
         "False",
         "False"
        ],
        [
         "41",
         "False",
         "False",
         "False",
         "False",
         "False",
         "False"
        ],
        [
         "42",
         "False",
         "False",
         "False",
         "False",
         "False",
         "False"
        ],
        [
         "43",
         "False",
         "False",
         "False",
         "False",
         "False",
         "False"
        ],
        [
         "44",
         "False",
         "False",
         "False",
         "False",
         "False",
         "False"
        ],
        [
         "45",
         "False",
         "False",
         "False",
         "False",
         "False",
         "False"
        ],
        [
         "46",
         "False",
         "False",
         "False",
         "False",
         "False",
         "False"
        ],
        [
         "47",
         "False",
         "False",
         "False",
         "False",
         "False",
         "False"
        ],
        [
         "48",
         "False",
         "False",
         "False",
         "False",
         "False",
         "False"
        ],
        [
         "49",
         "False",
         "False",
         "False",
         "False",
         "False",
         "False"
        ]
       ],
       "shape": {
        "columns": 6,
        "rows": 2566
       }
      },
      "text/html": [
       "<div>\n",
       "<style scoped>\n",
       "    .dataframe tbody tr th:only-of-type {\n",
       "        vertical-align: middle;\n",
       "    }\n",
       "\n",
       "    .dataframe tbody tr th {\n",
       "        vertical-align: top;\n",
       "    }\n",
       "\n",
       "    .dataframe thead th {\n",
       "        text-align: right;\n",
       "    }\n",
       "</style>\n",
       "<table border=\"1\" class=\"dataframe\">\n",
       "  <thead>\n",
       "    <tr style=\"text-align: right;\">\n",
       "      <th></th>\n",
       "      <th>Date</th>\n",
       "      <th>Close</th>\n",
       "      <th>High</th>\n",
       "      <th>Low</th>\n",
       "      <th>Open</th>\n",
       "      <th>Volume</th>\n",
       "    </tr>\n",
       "  </thead>\n",
       "  <tbody>\n",
       "    <tr>\n",
       "      <th>0</th>\n",
       "      <td>False</td>\n",
       "      <td>False</td>\n",
       "      <td>False</td>\n",
       "      <td>False</td>\n",
       "      <td>False</td>\n",
       "      <td>False</td>\n",
       "    </tr>\n",
       "    <tr>\n",
       "      <th>1</th>\n",
       "      <td>False</td>\n",
       "      <td>False</td>\n",
       "      <td>False</td>\n",
       "      <td>False</td>\n",
       "      <td>False</td>\n",
       "      <td>False</td>\n",
       "    </tr>\n",
       "    <tr>\n",
       "      <th>2</th>\n",
       "      <td>False</td>\n",
       "      <td>False</td>\n",
       "      <td>False</td>\n",
       "      <td>False</td>\n",
       "      <td>False</td>\n",
       "      <td>False</td>\n",
       "    </tr>\n",
       "    <tr>\n",
       "      <th>3</th>\n",
       "      <td>False</td>\n",
       "      <td>False</td>\n",
       "      <td>False</td>\n",
       "      <td>False</td>\n",
       "      <td>False</td>\n",
       "      <td>False</td>\n",
       "    </tr>\n",
       "    <tr>\n",
       "      <th>4</th>\n",
       "      <td>False</td>\n",
       "      <td>False</td>\n",
       "      <td>True</td>\n",
       "      <td>False</td>\n",
       "      <td>False</td>\n",
       "      <td>False</td>\n",
       "    </tr>\n",
       "    <tr>\n",
       "      <th>...</th>\n",
       "      <td>...</td>\n",
       "      <td>...</td>\n",
       "      <td>...</td>\n",
       "      <td>...</td>\n",
       "      <td>...</td>\n",
       "      <td>...</td>\n",
       "    </tr>\n",
       "    <tr>\n",
       "      <th>2561</th>\n",
       "      <td>False</td>\n",
       "      <td>False</td>\n",
       "      <td>False</td>\n",
       "      <td>False</td>\n",
       "      <td>False</td>\n",
       "      <td>False</td>\n",
       "    </tr>\n",
       "    <tr>\n",
       "      <th>2562</th>\n",
       "      <td>False</td>\n",
       "      <td>False</td>\n",
       "      <td>False</td>\n",
       "      <td>False</td>\n",
       "      <td>False</td>\n",
       "      <td>False</td>\n",
       "    </tr>\n",
       "    <tr>\n",
       "      <th>2563</th>\n",
       "      <td>False</td>\n",
       "      <td>False</td>\n",
       "      <td>False</td>\n",
       "      <td>False</td>\n",
       "      <td>False</td>\n",
       "      <td>False</td>\n",
       "    </tr>\n",
       "    <tr>\n",
       "      <th>2564</th>\n",
       "      <td>False</td>\n",
       "      <td>False</td>\n",
       "      <td>False</td>\n",
       "      <td>False</td>\n",
       "      <td>False</td>\n",
       "      <td>False</td>\n",
       "    </tr>\n",
       "    <tr>\n",
       "      <th>2565</th>\n",
       "      <td>False</td>\n",
       "      <td>False</td>\n",
       "      <td>False</td>\n",
       "      <td>False</td>\n",
       "      <td>False</td>\n",
       "      <td>False</td>\n",
       "    </tr>\n",
       "  </tbody>\n",
       "</table>\n",
       "<p>2566 rows × 6 columns</p>\n",
       "</div>"
      ],
      "text/plain": [
       "       Date  Close   High    Low   Open  Volume\n",
       "0     False  False  False  False  False   False\n",
       "1     False  False  False  False  False   False\n",
       "2     False  False  False  False  False   False\n",
       "3     False  False  False  False  False   False\n",
       "4     False  False   True  False  False   False\n",
       "...     ...    ...    ...    ...    ...     ...\n",
       "2561  False  False  False  False  False   False\n",
       "2562  False  False  False  False  False   False\n",
       "2563  False  False  False  False  False   False\n",
       "2564  False  False  False  False  False   False\n",
       "2565  False  False  False  False  False   False\n",
       "\n",
       "[2566 rows x 6 columns]"
      ]
     },
     "execution_count": 6,
     "metadata": {},
     "output_type": "execute_result"
    }
   ],
   "source": [
    "## YOUR CODE GOES HERE\n",
    "df.isnull()\n",
    "\n"
   ]
  },
  {
   "cell_type": "markdown",
   "metadata": {},
   "source": [
    "We can find out which rows have missing data using `isnull()`, `any()` along rows and some smart *masking*."
   ]
  },
  {
   "cell_type": "code",
   "execution_count": null,
   "metadata": {},
   "outputs": [],
   "source": []
  },
  {
   "attachments": {},
   "cell_type": "markdown",
   "metadata": {},
   "source": [
    "Now that we've identified our missing values, the big question is how to handle them. There are many approaches to this that will vary depending on the data and the further analysis you plan to carry out."
   ]
  },
  {
   "cell_type": "code",
   "execution_count": null,
   "metadata": {},
   "outputs": [],
   "source": []
  },
  {
   "attachments": {},
   "cell_type": "markdown",
   "metadata": {},
   "source": [
    "### Exercise: Cleaning up\n",
    "\n",
    "Notice how above we didn't actually update the `df` variable, so our DataFrame is still full of missing values. Fix all missing values applying the following rules:\n",
    "- Fill missing Close by linear interpolation\n",
    "- Fill missing Volume with the value from the day before\n",
    "- Fill missing Open with the median Open\n",
    "- Fill missing High with the Close or Open, whichever is higher\n",
    "- Fill missing Low with a value 3% lower than the High\n",
    "\n",
    "\n",
    "Your DataFrame `df` should have no missing values when done. Use `info()` to confirm.\n",
    "\n",
    "**NOTE:** When changing values in a data frame, it is recommended to avoid using `inplace`, and instead re-assign the variable."
   ]
  },
  {
   "cell_type": "code",
   "execution_count": 7,
   "metadata": {},
   "outputs": [
    {
     "data": {
      "text/plain": [
       "np.int64(0)"
      ]
     },
     "execution_count": 7,
     "metadata": {},
     "output_type": "execute_result"
    }
   ],
   "source": [
    "## YOUR CODE GOES HERE\n",
    "df.Close = df.Close.interpolate(method=\"linear\")\n",
    "\n",
    "df.Volume = df.Volume.ffill()\n",
    "\n",
    "df.Open = df.Open.fillna(df.Open.median())\n",
    "\n",
    "df.High = df.High.fillna(df[[\"Close\", \"Open\"]].max(axis=1))\n",
    "\n",
    "df.Low = df.Low.fillna (df.High*0.97)\n",
    "\n",
    "df.isnull().sum().sum()\n",
    "\n"
   ]
  },
  {
   "attachments": {},
   "cell_type": "markdown",
   "metadata": {},
   "source": [
    "#### Advanced: Data Types\n",
    "\n",
    "You may have noticed that the **Volume** column in the 2021 data frame is a `float64` instead of the `int64` *dtype* we had in the 2020 data frame. Missing values (NaN) are represented as a special case of floating point number, so all the values in **Volume** were automatically *upcast* to floats.\n",
    "\n",
    "Ideally our columns should be of the *dtype* that most accurately represents them. This will improve performance when working with large data frames. Now that we've resolved our missing numbers, we can *cast* our trading volumes as integers."
   ]
  },
  {
   "cell_type": "code",
   "execution_count": 8,
   "metadata": {},
   "outputs": [
    {
     "name": "stdout",
     "output_type": "stream",
     "text": [
      "<class 'pandas.core.frame.DataFrame'>\n",
      "RangeIndex: 2566 entries, 0 to 2565\n",
      "Data columns (total 6 columns):\n",
      " #   Column  Non-Null Count  Dtype  \n",
      "---  ------  --------------  -----  \n",
      " 0   Date    2566 non-null   object \n",
      " 1   Close   2566 non-null   float64\n",
      " 2   High    2566 non-null   float64\n",
      " 3   Low     2566 non-null   float64\n",
      " 4   Open    2566 non-null   float64\n",
      " 5   Volume  2566 non-null   int64  \n",
      "dtypes: float64(4), int64(1), object(1)\n",
      "memory usage: 120.4+ KB\n"
     ]
    }
   ],
   "source": [
    "df[\"Volume\"] = df[\"Volume\"].astype(\"int64\")\n",
    "df.info()"
   ]
  },
  {
   "attachments": {},
   "cell_type": "markdown",
   "metadata": {},
   "source": [
    "## Saving Data\n",
    "\n",
    "Now that we've cleaned our data, let's save it, by writing it to a new .CSV file. We can use pandas' `to_csv()`."
   ]
  },
  {
   "cell_type": "code",
   "execution_count": 9,
   "metadata": {},
   "outputs": [],
   "source": [
    "df.to_csv(\"TSLA_10_clean.csv\")"
   ]
  },
  {
   "cell_type": "code",
   "execution_count": null,
   "metadata": {},
   "outputs": [],
   "source": []
  }
 ],
 "metadata": {
  "kernelspec": {
   "display_name": "Python 3",
   "language": "python",
   "name": "python3"
  },
  "language_info": {
   "codemirror_mode": {
    "name": "ipython",
    "version": 3
   },
   "file_extension": ".py",
   "mimetype": "text/x-python",
   "name": "python",
   "nbconvert_exporter": "python",
   "pygments_lexer": "ipython3",
   "version": "3.12.1"
  }
 },
 "nbformat": 4,
 "nbformat_minor": 2
}
