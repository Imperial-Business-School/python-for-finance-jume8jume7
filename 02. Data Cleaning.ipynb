{
 "cells": [
  {
   "attachments": {},
   "cell_type": "markdown",
   "metadata": {},
   "source": [
    "## Data Cleaning\n",
    "\n",
    "Let's load the some data for TSLA. Unfortunately, this data is not quite as *clean* as our NVDA data, so we'll need to do some data wrangling. The file we're looking to load is `TSLA_2015_2024.csv`."
   ]
  },
  {
   "cell_type": "code",
   "execution_count": 4,
   "metadata": {},
   "outputs": [],
   "source": [
    "import pandas as pd"
   ]
  },
  {
   "cell_type": "code",
   "execution_count": 5,
   "metadata": {},
   "outputs": [
    {
     "data": {
      "text/html": [
       "<div>\n",
       "<style scoped>\n",
       "    .dataframe tbody tr th:only-of-type {\n",
       "        vertical-align: middle;\n",
       "    }\n",
       "\n",
       "    .dataframe tbody tr th {\n",
       "        vertical-align: top;\n",
       "    }\n",
       "\n",
       "    .dataframe thead th {\n",
       "        text-align: right;\n",
       "    }\n",
       "</style>\n",
       "<table border=\"1\" class=\"dataframe\">\n",
       "  <thead>\n",
       "    <tr style=\"text-align: right;\">\n",
       "      <th></th>\n",
       "      <th>Date</th>\n",
       "      <th>Close</th>\n",
       "      <th>High</th>\n",
       "      <th>Low</th>\n",
       "      <th>Open</th>\n",
       "      <th>Volume</th>\n",
       "    </tr>\n",
       "  </thead>\n",
       "  <tbody>\n",
       "    <tr>\n",
       "      <th>0</th>\n",
       "      <td>11/07/2024</td>\n",
       "      <td>241.029999</td>\n",
       "      <td>271.000000</td>\n",
       "      <td>239.649994</td>\n",
       "      <td>263.299988</td>\n",
       "      <td>221707300.0</td>\n",
       "    </tr>\n",
       "    <tr>\n",
       "      <th>1</th>\n",
       "      <td>13/08/2020</td>\n",
       "      <td>108.066666</td>\n",
       "      <td>110.078667</td>\n",
       "      <td>104.484001</td>\n",
       "      <td>107.400002</td>\n",
       "      <td>306379500.0</td>\n",
       "    </tr>\n",
       "    <tr>\n",
       "      <th>2</th>\n",
       "      <td>13/08/2020</td>\n",
       "      <td>108.066666</td>\n",
       "      <td>110.078667</td>\n",
       "      <td>104.484001</td>\n",
       "      <td>107.400002</td>\n",
       "      <td>306379500.0</td>\n",
       "    </tr>\n",
       "    <tr>\n",
       "      <th>3</th>\n",
       "      <td>30/10/2019</td>\n",
       "      <td>21.000668</td>\n",
       "      <td>21.252666</td>\n",
       "      <td>20.664667</td>\n",
       "      <td>20.866667</td>\n",
       "      <td>144627000.0</td>\n",
       "    </tr>\n",
       "    <tr>\n",
       "      <th>4</th>\n",
       "      <td>27/08/2015</td>\n",
       "      <td>16.199333</td>\n",
       "      <td>NaN</td>\n",
       "      <td>15.387333</td>\n",
       "      <td>15.400000</td>\n",
       "      <td>114840000.0</td>\n",
       "    </tr>\n",
       "    <tr>\n",
       "      <th>...</th>\n",
       "      <td>...</td>\n",
       "      <td>...</td>\n",
       "      <td>...</td>\n",
       "      <td>...</td>\n",
       "      <td>...</td>\n",
       "      <td>...</td>\n",
       "    </tr>\n",
       "    <tr>\n",
       "      <th>2561</th>\n",
       "      <td>10/08/2018</td>\n",
       "      <td>23.699333</td>\n",
       "      <td>24.000000</td>\n",
       "      <td>23.066668</td>\n",
       "      <td>23.600000</td>\n",
       "      <td>173280000.0</td>\n",
       "    </tr>\n",
       "    <tr>\n",
       "      <th>2562</th>\n",
       "      <td>21/06/2021</td>\n",
       "      <td>206.943329</td>\n",
       "      <td>210.463333</td>\n",
       "      <td>202.960007</td>\n",
       "      <td>208.160004</td>\n",
       "      <td>74438100.0</td>\n",
       "    </tr>\n",
       "    <tr>\n",
       "      <th>2563</th>\n",
       "      <td>20/06/2016</td>\n",
       "      <td>14.646667</td>\n",
       "      <td>14.916667</td>\n",
       "      <td>14.548667</td>\n",
       "      <td>14.633333</td>\n",
       "      <td>53332500.0</td>\n",
       "    </tr>\n",
       "    <tr>\n",
       "      <th>2564</th>\n",
       "      <td>21/02/2019</td>\n",
       "      <td>19.415333</td>\n",
       "      <td>20.216000</td>\n",
       "      <td>19.366667</td>\n",
       "      <td>20.120667</td>\n",
       "      <td>133638000.0</td>\n",
       "    </tr>\n",
       "    <tr>\n",
       "      <th>2565</th>\n",
       "      <td>14/05/2019</td>\n",
       "      <td>15.487333</td>\n",
       "      <td>15.633333</td>\n",
       "      <td>15.200000</td>\n",
       "      <td>15.286667</td>\n",
       "      <td>108786000.0</td>\n",
       "    </tr>\n",
       "  </tbody>\n",
       "</table>\n",
       "<p>2566 rows × 6 columns</p>\n",
       "</div>"
      ],
      "text/plain": [
       "            Date       Close        High         Low        Open       Volume\n",
       "0     11/07/2024  241.029999  271.000000  239.649994  263.299988  221707300.0\n",
       "1     13/08/2020  108.066666  110.078667  104.484001  107.400002  306379500.0\n",
       "2     13/08/2020  108.066666  110.078667  104.484001  107.400002  306379500.0\n",
       "3     30/10/2019   21.000668   21.252666   20.664667   20.866667  144627000.0\n",
       "4     27/08/2015   16.199333         NaN   15.387333   15.400000  114840000.0\n",
       "...          ...         ...         ...         ...         ...          ...\n",
       "2561  10/08/2018   23.699333   24.000000   23.066668   23.600000  173280000.0\n",
       "2562  21/06/2021  206.943329  210.463333  202.960007  208.160004   74438100.0\n",
       "2563  20/06/2016   14.646667   14.916667   14.548667   14.633333   53332500.0\n",
       "2564  21/02/2019   19.415333   20.216000   19.366667   20.120667  133638000.0\n",
       "2565  14/05/2019   15.487333   15.633333   15.200000   15.286667  108786000.0\n",
       "\n",
       "[2566 rows x 6 columns]"
      ]
     },
     "execution_count": 5,
     "metadata": {},
     "output_type": "execute_result"
    }
   ],
   "source": [
    "df = pd.read_csv(\"data/TSLA_2015_2024.csv\")\n",
    "df"
   ]
  },
  {
   "attachments": {},
   "cell_type": "markdown",
   "metadata": {},
   "source": [
    "Can you see what we mean by messy? How many issues can you spot?\n",
    "\n",
    "- Dates out of order\n",
    "- Duplicate rows\n",
    "- Missing values\n",
    "\n",
    "## Ordering and Duplicates\n",
    "\n",
    "First let's start with sorting the index."
   ]
  },
  {
   "cell_type": "code",
   "execution_count": 6,
   "metadata": {},
   "outputs": [
    {
     "data": {
      "text/plain": [
       "True"
      ]
     },
     "execution_count": 6,
     "metadata": {},
     "output_type": "execute_result"
    }
   ],
   "source": [
    "df.index.is_monotonic_increasing\n",
    "\n",
    "df.sort_index(inplace=True)\n",
    "\n",
    "df.index.is_monotonic_increasing"
   ]
  },
  {
   "attachments": {},
   "cell_type": "markdown",
   "metadata": {},
   "source": [
    "Now let's focus on duplicates:"
   ]
  },
  {
   "cell_type": "code",
   "execution_count": null,
   "metadata": {},
   "outputs": [],
   "source": []
  },
  {
   "cell_type": "markdown",
   "metadata": {},
   "source": [
    "#### Tip: Method Chaining\n",
    "\n",
    "**Method chaining** is a popular feature of pandas. It allows us to *chain* together several operations in a single line of code. For example, we can set the index, sort the data frame and drop any duplicates all at once. Notice we don't use `inplace` but rather re-assign to the original `df` variable.\n",
    "\n",
    "```python\n",
    "df = df.set_index(\"Date\").sort_index().drop_duplicates()\n",
    "```"
   ]
  },
  {
   "attachments": {},
   "cell_type": "markdown",
   "metadata": {},
   "source": [
    "## Not a Number (NaN)\n",
    "\n",
    "### Exercise: Some Null Chain\n",
    "\n",
    "Let's look at the missing or `NaN` values next. Previously, we saw that `info()` gave us some insight into how many missing values we had, but we can also use `isnull()`.\n",
    "\n",
    "Can you chain `isnull()` with `sum()` to get a single value stating the total number of missing values in the data frame?"
   ]
  },
  {
   "cell_type": "code",
   "execution_count": 8,
   "metadata": {},
   "outputs": [
    {
     "data": {
      "text/html": [
       "<div>\n",
       "<style scoped>\n",
       "    .dataframe tbody tr th:only-of-type {\n",
       "        vertical-align: middle;\n",
       "    }\n",
       "\n",
       "    .dataframe tbody tr th {\n",
       "        vertical-align: top;\n",
       "    }\n",
       "\n",
       "    .dataframe thead th {\n",
       "        text-align: right;\n",
       "    }\n",
       "</style>\n",
       "<table border=\"1\" class=\"dataframe\">\n",
       "  <thead>\n",
       "    <tr style=\"text-align: right;\">\n",
       "      <th></th>\n",
       "      <th>Date</th>\n",
       "      <th>Close</th>\n",
       "      <th>High</th>\n",
       "      <th>Low</th>\n",
       "      <th>Open</th>\n",
       "      <th>Volume</th>\n",
       "    </tr>\n",
       "  </thead>\n",
       "  <tbody>\n",
       "    <tr>\n",
       "      <th>0</th>\n",
       "      <td>False</td>\n",
       "      <td>False</td>\n",
       "      <td>False</td>\n",
       "      <td>False</td>\n",
       "      <td>False</td>\n",
       "      <td>False</td>\n",
       "    </tr>\n",
       "    <tr>\n",
       "      <th>1</th>\n",
       "      <td>False</td>\n",
       "      <td>False</td>\n",
       "      <td>False</td>\n",
       "      <td>False</td>\n",
       "      <td>False</td>\n",
       "      <td>False</td>\n",
       "    </tr>\n",
       "    <tr>\n",
       "      <th>2</th>\n",
       "      <td>False</td>\n",
       "      <td>False</td>\n",
       "      <td>False</td>\n",
       "      <td>False</td>\n",
       "      <td>False</td>\n",
       "      <td>False</td>\n",
       "    </tr>\n",
       "    <tr>\n",
       "      <th>3</th>\n",
       "      <td>False</td>\n",
       "      <td>False</td>\n",
       "      <td>False</td>\n",
       "      <td>False</td>\n",
       "      <td>False</td>\n",
       "      <td>False</td>\n",
       "    </tr>\n",
       "    <tr>\n",
       "      <th>4</th>\n",
       "      <td>False</td>\n",
       "      <td>False</td>\n",
       "      <td>True</td>\n",
       "      <td>False</td>\n",
       "      <td>False</td>\n",
       "      <td>False</td>\n",
       "    </tr>\n",
       "    <tr>\n",
       "      <th>...</th>\n",
       "      <td>...</td>\n",
       "      <td>...</td>\n",
       "      <td>...</td>\n",
       "      <td>...</td>\n",
       "      <td>...</td>\n",
       "      <td>...</td>\n",
       "    </tr>\n",
       "    <tr>\n",
       "      <th>2561</th>\n",
       "      <td>False</td>\n",
       "      <td>False</td>\n",
       "      <td>False</td>\n",
       "      <td>False</td>\n",
       "      <td>False</td>\n",
       "      <td>False</td>\n",
       "    </tr>\n",
       "    <tr>\n",
       "      <th>2562</th>\n",
       "      <td>False</td>\n",
       "      <td>False</td>\n",
       "      <td>False</td>\n",
       "      <td>False</td>\n",
       "      <td>False</td>\n",
       "      <td>False</td>\n",
       "    </tr>\n",
       "    <tr>\n",
       "      <th>2563</th>\n",
       "      <td>False</td>\n",
       "      <td>False</td>\n",
       "      <td>False</td>\n",
       "      <td>False</td>\n",
       "      <td>False</td>\n",
       "      <td>False</td>\n",
       "    </tr>\n",
       "    <tr>\n",
       "      <th>2564</th>\n",
       "      <td>False</td>\n",
       "      <td>False</td>\n",
       "      <td>False</td>\n",
       "      <td>False</td>\n",
       "      <td>False</td>\n",
       "      <td>False</td>\n",
       "    </tr>\n",
       "    <tr>\n",
       "      <th>2565</th>\n",
       "      <td>False</td>\n",
       "      <td>False</td>\n",
       "      <td>False</td>\n",
       "      <td>False</td>\n",
       "      <td>False</td>\n",
       "      <td>False</td>\n",
       "    </tr>\n",
       "  </tbody>\n",
       "</table>\n",
       "<p>2566 rows × 6 columns</p>\n",
       "</div>"
      ],
      "text/plain": [
       "       Date  Close   High    Low   Open  Volume\n",
       "0     False  False  False  False  False   False\n",
       "1     False  False  False  False  False   False\n",
       "2     False  False  False  False  False   False\n",
       "3     False  False  False  False  False   False\n",
       "4     False  False   True  False  False   False\n",
       "...     ...    ...    ...    ...    ...     ...\n",
       "2561  False  False  False  False  False   False\n",
       "2562  False  False  False  False  False   False\n",
       "2563  False  False  False  False  False   False\n",
       "2564  False  False  False  False  False   False\n",
       "2565  False  False  False  False  False   False\n",
       "\n",
       "[2566 rows x 6 columns]"
      ]
     },
     "execution_count": 8,
     "metadata": {},
     "output_type": "execute_result"
    }
   ],
   "source": [
    "## YOUR CODE GOES HERE\n",
    "df.isnull()\n",
    "\n"
   ]
  },
  {
   "cell_type": "markdown",
   "metadata": {},
   "source": [
    "We can find out which rows have missing data using `isnull()`, `any()` along rows and some smart *masking*."
   ]
  },
  {
   "cell_type": "code",
   "execution_count": null,
   "metadata": {},
   "outputs": [],
   "source": []
  },
  {
   "attachments": {},
   "cell_type": "markdown",
   "metadata": {},
   "source": [
    "Now that we've identified our missing values, the big question is how to handle them. There are many approaches to this that will vary depending on the data and the further analysis you plan to carry out."
   ]
  },
  {
   "cell_type": "code",
   "execution_count": null,
   "metadata": {},
   "outputs": [],
   "source": []
  },
  {
   "attachments": {},
   "cell_type": "markdown",
   "metadata": {},
   "source": [
    "### Exercise: Cleaning up\n",
    "\n",
    "Notice how above we didn't actually update the `df` variable, so our DataFrame is still full of missing values. Fix all missing values applying the following rules:\n",
    "- Fill missing Close by linear interpolation\n",
    "- Fill missing Volume with the value from the day before\n",
    "- Fill missing Open with the median Open\n",
    "- Fill missing High with the Close or Open, whichever is higher\n",
    "- Fill missing Low with a value 3% lower than the High\n",
    "\n",
    "\n",
    "Your DataFrame `df` should have no missing values when done. Use `info()` to confirm.\n",
    "\n",
    "**NOTE:** When changing values in a data frame, it is recommended to avoid using `inplace`, and instead re-assign the variable."
   ]
  },
  {
   "cell_type": "code",
   "execution_count": 13,
   "metadata": {},
   "outputs": [
    {
     "data": {
      "text/plain": [
       "np.int64(0)"
      ]
     },
     "execution_count": 13,
     "metadata": {},
     "output_type": "execute_result"
    }
   ],
   "source": [
    "## YOUR CODE GOES HERE\n",
    "df.Close = df.Close.interpolate(method=\"linear\")\n",
    "\n",
    "df.Volume = df.Volume.ffill()\n",
    "\n",
    "df.Open = df.Open.fillna(df.Open.median())\n",
    "\n",
    "df.High = df.High.fillna(df[[\"Close\", \"Open\"]].max(axis=1))\n",
    "\n",
    "df.Low = df.Low.fillna (df.High*0.97)\n",
    "\n",
    "df.isnull().sum().sum()\n",
    "\n"
   ]
  },
  {
   "attachments": {},
   "cell_type": "markdown",
   "metadata": {},
   "source": [
    "#### Advanced: Data Types\n",
    "\n",
    "You may have noticed that the **Volume** column in the 2021 data frame is a `float64` instead of the `int64` *dtype* we had in the 2020 data frame. Missing values (NaN) are represented as a special case of floating point number, so all the values in **Volume** were automatically *upcast* to floats.\n",
    "\n",
    "Ideally our columns should be of the *dtype* that most accurately represents them. This will improve performance when working with large data frames. Now that we've resolved our missing numbers, we can *cast* our trading volumes as integers."
   ]
  },
  {
   "cell_type": "code",
   "execution_count": null,
   "metadata": {},
   "outputs": [],
   "source": []
  },
  {
   "attachments": {},
   "cell_type": "markdown",
   "metadata": {},
   "source": [
    "## Saving Data\n",
    "\n",
    "Now that we've cleaned our data, let's save it, by writing it to a new .CSV file. We can use pandas' `to_csv()`."
   ]
  },
  {
   "cell_type": "code",
   "execution_count": null,
   "metadata": {},
   "outputs": [],
   "source": []
  }
 ],
 "metadata": {
  "kernelspec": {
   "display_name": "Python 3",
   "language": "python",
   "name": "python3"
  },
  "language_info": {
   "codemirror_mode": {
    "name": "ipython",
    "version": 3
   },
   "file_extension": ".py",
   "mimetype": "text/x-python",
   "name": "python",
   "nbconvert_exporter": "python",
   "pygments_lexer": "ipython3",
   "version": "3.12.1"
  }
 },
 "nbformat": 4,
 "nbformat_minor": 2
}
