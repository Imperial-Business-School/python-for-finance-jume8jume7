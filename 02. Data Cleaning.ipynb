{
 "cells": [
  {
   "attachments": {},
   "cell_type": "markdown",
   "metadata": {},
   "source": [
    "## Data Cleaning\n",
    "\n",
    "Let's load the some data for TSLA. Unfortunately, this data is not quite as *clean* as our NVDA data, so we'll need to do some data wrangling. The file we're looking to load is `TSLA_2015_2024.csv`."
   ]
  },
  {
   "cell_type": "code",
   "execution_count": 2,
   "metadata": {},
   "outputs": [],
   "source": [
    "import pandas as pd"
   ]
  },
  {
   "cell_type": "code",
   "execution_count": 3,
   "metadata": {},
   "outputs": [
    {
     "data": {
      "application/vnd.microsoft.datawrangler.viewer.v0+json": {
       "columns": [
        {
         "name": "Date",
         "rawType": "datetime64[ns]",
         "type": "datetime"
        },
        {
         "name": "Close",
         "rawType": "float64",
         "type": "float"
        },
        {
         "name": "High",
         "rawType": "float64",
         "type": "float"
        },
        {
         "name": "Low",
         "rawType": "float64",
         "type": "float"
        },
        {
         "name": "Open",
         "rawType": "float64",
         "type": "float"
        },
        {
         "name": "Volume",
         "rawType": "float64",
         "type": "float"
        }
       ],
       "ref": "a1714318-a73d-4763-a2b5-211cf5f105b6",
       "rows": [
        [
         "2024-07-11 00:00:00",
         "241.02999877929688",
         "271.0",
         "239.6499938964844",
         "263.29998779296875",
         "221707300.0"
        ],
        [
         "2020-08-13 00:00:00",
         "108.06666564941406",
         "110.07866668701172",
         "104.48400115966795",
         "107.4000015258789",
         "306379500.0"
        ],
        [
         "2020-08-13 00:00:00",
         "108.06666564941406",
         "110.07866668701172",
         "104.48400115966795",
         "107.4000015258789",
         "306379500.0"
        ],
        [
         "2019-10-30 00:00:00",
         "21.000667572021484",
         "21.252666473388672",
         "20.6646671295166",
         "20.86666679382324",
         "144627000.0"
        ],
        [
         "2015-08-27 00:00:00",
         "16.19933319091797",
         null,
         "15.387332916259766",
         "15.399999618530272",
         "114840000.0"
        ],
        [
         "2021-03-04 00:00:00",
         "207.14666748046875",
         "222.8166656494141",
         "200.0",
         "218.6000061035156",
         "197758500.0"
        ],
        [
         "2024-12-30 00:00:00",
         "417.4100036621094",
         "427.0",
         "415.75",
         "419.3999938964844",
         "64941000.0"
        ],
        [
         "2022-01-24 00:00:00",
         "310.0",
         "311.1700134277344",
         "283.8233337402344",
         "301.586669921875",
         "151565700.0"
        ],
        [
         "2018-08-02 00:00:00",
         "23.30266761779785",
         "23.332666397094727",
         "21.54400062561035",
         "21.895999908447266",
         null
        ],
        [
         "2023-04-24 00:00:00",
         "162.5500030517578",
         "165.64999389648438",
         null,
         "164.64999389648438",
         "140006600.0"
        ],
        [
         "2022-08-11 00:00:00",
         "286.6300048828125",
         "298.2366638183594",
         null,
         "296.5133361816406",
         "70155000.0"
        ],
        [
         "2020-06-29 00:00:00",
         "67.29000091552734",
         "67.33333587646484",
         "63.23466873168945",
         "64.60066986083984",
         "135396000.0"
        ],
        [
         "2021-07-08 00:00:00",
         "217.60333251953125",
         "218.1433258056641",
         "206.82000732421875",
         "209.4566650390625",
         "68319900.0"
        ],
        [
         "2020-06-05 00:00:00",
         "59.04399871826172",
         "59.10133361816406",
         "57.74666595458984",
         "58.52266693115234",
         "117178500.0"
        ],
        [
         "2022-01-04 00:00:00",
         "383.1966552734375",
         "402.6666564941406",
         "374.3500061035156",
         "396.51666259765625",
         "100248300.0"
        ],
        [
         "2017-10-30 00:00:00",
         "21.338666915893555",
         "21.5853328704834",
         "21.149999618530277",
         "21.27866744995117",
         "63816000.0"
        ],
        [
         "2023-10-31 00:00:00",
         "200.83999633789065",
         "202.8000030517578",
         "194.07000732421875",
         "196.1199951171875",
         "118068300.0"
        ],
        [
         "2016-03-30 00:00:00",
         "15.12600040435791",
         "15.699999809265137",
         "15.100000381469728",
         "15.672666549682615",
         "60495000.0"
        ],
        [
         "2021-12-28 00:00:00",
         "362.8233337402344",
         "373.0",
         "359.47332763671875",
         "369.8299865722656",
         "60324000.0"
        ],
        [
         "2016-06-27 00:00:00",
         "13.236666679382324",
         "13.253999710083008",
         "12.524666786193848",
         "12.723999977111816",
         "108081000.0"
        ],
        [
         "2020-02-20 00:00:00",
         "59.96066665649414",
         "60.79999923706055",
         null,
         "60.79666519165039",
         "264523500.0"
        ],
        [
         "2015-11-27 00:00:00",
         "15.440667152404783",
         "15.483332633972168",
         "15.133999824523926",
         "15.404000282287598",
         "29241000.0"
        ],
        [
         "2023-11-08 00:00:00",
         "222.1100006103516",
         "224.1499938964844",
         "217.63999938964844",
         "223.1499938964844",
         "106584800.0"
        ],
        [
         "2018-07-05 00:00:00",
         "20.610666275024418",
         "20.959333419799805",
         "19.74799919128418",
         "20.917333602905277",
         "262146000.0"
        ],
        [
         "2019-02-05 00:00:00",
         "21.42333221435547",
         "21.496000289916992",
         "20.81666755676269",
         "20.832666397094727",
         "101142000.0"
        ],
        [
         "2020-12-24 00:00:00",
         "220.58999633789065",
         "222.02999877929688",
         "213.6666717529297",
         "214.3300018310547",
         "68596800.0"
        ],
        [
         "2023-01-25 00:00:00",
         "144.42999267578125",
         "146.41000366210938",
         "138.07000732421875",
         "141.91000366210938",
         "192734300.0"
        ],
        [
         "2020-12-16 00:00:00",
         "207.58999633789065",
         "210.8333282470703",
         "201.6666717529297",
         "209.41000366210932",
         "126287400.0"
        ],
        [
         "2020-12-03 00:00:00",
         "197.7933349609375",
         "199.6566619873047",
         "194.1433258056641",
         "196.67333984375",
         "127656000.0"
        ],
        [
         "2022-02-15 00:00:00",
         null,
         "307.6666564941406",
         "297.7933349609375",
         "300.0",
         "57286200.0"
        ],
        [
         "2015-01-14 00:00:00",
         "12.845999717712402",
         "13.013333320617676",
         "12.333333015441896",
         "12.388667106628418",
         "173278500.0"
        ],
        [
         "2023-09-13 00:00:00",
         "271.29998779296875",
         "274.9800109863281",
         "268.1000061035156",
         null,
         "111673700.0"
        ],
        [
         "2022-12-01 00:00:00",
         "194.6999969482422",
         "198.9199981689453",
         "191.8000030517578",
         "197.0800018310547",
         "80046200.0"
        ],
        [
         "2024-08-07 00:00:00",
         "191.7599945068359",
         "203.4900054931641",
         "191.47999572753903",
         "200.77000427246097",
         "71159800.0"
        ],
        [
         "2015-12-08 00:00:00",
         "15.114666938781738",
         "15.25333309173584",
         "14.946666717529297",
         "15.16800022125244",
         "40314000.0"
        ],
        [
         "2020-03-13 00:00:00",
         "36.44133377075195",
         null,
         "33.46666717529297",
         "39.66666793823242",
         "339604500.0"
        ],
        [
         "2019-01-10 00:00:00",
         "22.99799919128418",
         "23.025999069213867",
         "22.11933326721191",
         "22.293333053588867",
         "90846000.0"
        ],
        [
         "2021-06-03 00:00:00",
         "190.94667053222656",
         "201.51666259765625",
         "190.4066619873047",
         "200.6000061035156",
         "90335700.0"
        ],
        [
         "2017-03-17 00:00:00",
         "17.433332443237305",
         "17.68866729736328",
         "17.413333892822266",
         "17.600000381469727",
         "97462500.0"
        ],
        [
         "2018-04-30 00:00:00",
         "19.593332290649418",
         "19.915332794189453",
         "19.5",
         "19.573999404907227",
         "63423000.0"
        ],
        [
         "2024-07-29 00:00:00",
         "232.1000061035156",
         "234.27000427246097",
         "224.6999969482422",
         "224.8999938964844",
         "129201800.0"
        ],
        [
         "2019-06-17 00:00:00",
         "15.001999855041504",
         "15.133333206176758",
         "14.284667015075684",
         "14.36533260345459",
         "184752000.0"
        ],
        [
         "2015-05-19 00:00:00",
         "16.47599983215332",
         "16.733333587646484",
         "16.40999984741211",
         "16.562000274658203",
         "55113000.0"
        ],
        [
         "2023-09-05 00:00:00",
         "256.489990234375",
         "258.0",
         "244.8600006103516",
         "245.0",
         "129469600.0"
        ],
        [
         "2015-07-13 00:00:00",
         "17.477333068847656",
         "17.503332138061523",
         "17.06999969482422",
         "17.483333587646484",
         "44404500.0"
        ],
        [
         "2016-01-12 00:00:00",
         "13.998000144958496",
         "14.249333381652832",
         "13.687333106994627",
         "14.106666564941406",
         "46378500.0"
        ],
        [
         "2020-12-07 00:00:00",
         "213.9199981689453",
         "216.26333618164065",
         "201.01666259765625",
         "201.63999938964844",
         "168929100.0"
        ],
        [
         "2021-09-01 00:00:00",
         "244.69667053222656",
         "247.3300018310547",
         "243.7566680908203",
         "244.69332885742188",
         "39612900.0"
        ],
        [
         "2017-09-11 00:00:00",
         "24.246000289916992",
         "24.247333526611328",
         "23.33333206176757",
         "23.42333221435547",
         "115006500.0"
        ],
        [
         "2016-03-11 00:00:00",
         "13.833333015441896",
         "13.961333274841309",
         "13.68866729736328",
         "13.862000465393066",
         "50146500.0"
        ]
       ],
       "shape": {
        "columns": 5,
        "rows": 2566
       }
      },
      "text/html": [
       "<div>\n",
       "<style scoped>\n",
       "    .dataframe tbody tr th:only-of-type {\n",
       "        vertical-align: middle;\n",
       "    }\n",
       "\n",
       "    .dataframe tbody tr th {\n",
       "        vertical-align: top;\n",
       "    }\n",
       "\n",
       "    .dataframe thead th {\n",
       "        text-align: right;\n",
       "    }\n",
       "</style>\n",
       "<table border=\"1\" class=\"dataframe\">\n",
       "  <thead>\n",
       "    <tr style=\"text-align: right;\">\n",
       "      <th></th>\n",
       "      <th>Close</th>\n",
       "      <th>High</th>\n",
       "      <th>Low</th>\n",
       "      <th>Open</th>\n",
       "      <th>Volume</th>\n",
       "    </tr>\n",
       "    <tr>\n",
       "      <th>Date</th>\n",
       "      <th></th>\n",
       "      <th></th>\n",
       "      <th></th>\n",
       "      <th></th>\n",
       "      <th></th>\n",
       "    </tr>\n",
       "  </thead>\n",
       "  <tbody>\n",
       "    <tr>\n",
       "      <th>2024-07-11</th>\n",
       "      <td>241.029999</td>\n",
       "      <td>271.000000</td>\n",
       "      <td>239.649994</td>\n",
       "      <td>263.299988</td>\n",
       "      <td>221707300.0</td>\n",
       "    </tr>\n",
       "    <tr>\n",
       "      <th>2020-08-13</th>\n",
       "      <td>108.066666</td>\n",
       "      <td>110.078667</td>\n",
       "      <td>104.484001</td>\n",
       "      <td>107.400002</td>\n",
       "      <td>306379500.0</td>\n",
       "    </tr>\n",
       "    <tr>\n",
       "      <th>2020-08-13</th>\n",
       "      <td>108.066666</td>\n",
       "      <td>110.078667</td>\n",
       "      <td>104.484001</td>\n",
       "      <td>107.400002</td>\n",
       "      <td>306379500.0</td>\n",
       "    </tr>\n",
       "    <tr>\n",
       "      <th>2019-10-30</th>\n",
       "      <td>21.000668</td>\n",
       "      <td>21.252666</td>\n",
       "      <td>20.664667</td>\n",
       "      <td>20.866667</td>\n",
       "      <td>144627000.0</td>\n",
       "    </tr>\n",
       "    <tr>\n",
       "      <th>2015-08-27</th>\n",
       "      <td>16.199333</td>\n",
       "      <td>NaN</td>\n",
       "      <td>15.387333</td>\n",
       "      <td>15.400000</td>\n",
       "      <td>114840000.0</td>\n",
       "    </tr>\n",
       "    <tr>\n",
       "      <th>...</th>\n",
       "      <td>...</td>\n",
       "      <td>...</td>\n",
       "      <td>...</td>\n",
       "      <td>...</td>\n",
       "      <td>...</td>\n",
       "    </tr>\n",
       "    <tr>\n",
       "      <th>2018-08-10</th>\n",
       "      <td>23.699333</td>\n",
       "      <td>24.000000</td>\n",
       "      <td>23.066668</td>\n",
       "      <td>23.600000</td>\n",
       "      <td>173280000.0</td>\n",
       "    </tr>\n",
       "    <tr>\n",
       "      <th>2021-06-21</th>\n",
       "      <td>206.943329</td>\n",
       "      <td>210.463333</td>\n",
       "      <td>202.960007</td>\n",
       "      <td>208.160004</td>\n",
       "      <td>74438100.0</td>\n",
       "    </tr>\n",
       "    <tr>\n",
       "      <th>2016-06-20</th>\n",
       "      <td>14.646667</td>\n",
       "      <td>14.916667</td>\n",
       "      <td>14.548667</td>\n",
       "      <td>14.633333</td>\n",
       "      <td>53332500.0</td>\n",
       "    </tr>\n",
       "    <tr>\n",
       "      <th>2019-02-21</th>\n",
       "      <td>19.415333</td>\n",
       "      <td>20.216000</td>\n",
       "      <td>19.366667</td>\n",
       "      <td>20.120667</td>\n",
       "      <td>133638000.0</td>\n",
       "    </tr>\n",
       "    <tr>\n",
       "      <th>2019-05-14</th>\n",
       "      <td>15.487333</td>\n",
       "      <td>15.633333</td>\n",
       "      <td>15.200000</td>\n",
       "      <td>15.286667</td>\n",
       "      <td>108786000.0</td>\n",
       "    </tr>\n",
       "  </tbody>\n",
       "</table>\n",
       "<p>2566 rows × 5 columns</p>\n",
       "</div>"
      ],
      "text/plain": [
       "                 Close        High         Low        Open       Volume\n",
       "Date                                                                   \n",
       "2024-07-11  241.029999  271.000000  239.649994  263.299988  221707300.0\n",
       "2020-08-13  108.066666  110.078667  104.484001  107.400002  306379500.0\n",
       "2020-08-13  108.066666  110.078667  104.484001  107.400002  306379500.0\n",
       "2019-10-30   21.000668   21.252666   20.664667   20.866667  144627000.0\n",
       "2015-08-27   16.199333         NaN   15.387333   15.400000  114840000.0\n",
       "...                ...         ...         ...         ...          ...\n",
       "2018-08-10   23.699333   24.000000   23.066668   23.600000  173280000.0\n",
       "2021-06-21  206.943329  210.463333  202.960007  208.160004   74438100.0\n",
       "2016-06-20   14.646667   14.916667   14.548667   14.633333   53332500.0\n",
       "2019-02-21   19.415333   20.216000   19.366667   20.120667  133638000.0\n",
       "2019-05-14   15.487333   15.633333   15.200000   15.286667  108786000.0\n",
       "\n",
       "[2566 rows x 5 columns]"
      ]
     },
     "execution_count": 3,
     "metadata": {},
     "output_type": "execute_result"
    }
   ],
   "source": [
    "df = pd.read_csv(\"data/TSLA_2015_2024.csv\")\n",
    "df[\"Date\"] = pd.to_datetime(df[\"Date\"], dayfirst=True)\n",
    "df.set_index(\"Date\", inplace=True)\n",
    "df"
   ]
  },
  {
   "attachments": {},
   "cell_type": "markdown",
   "metadata": {},
   "source": [
    "Can you see what we mean by messy? How many issues can you spot?\n",
    "\n",
    "- Dates out of order\n",
    "- Duplicate rows\n",
    "- Missing values\n",
    "\n",
    "## Ordering and Duplicates\n",
    "\n",
    "First let's start with sorting the index."
   ]
  },
  {
   "cell_type": "code",
   "execution_count": 4,
   "metadata": {},
   "outputs": [
    {
     "data": {
      "text/plain": [
       "True"
      ]
     },
     "execution_count": 4,
     "metadata": {},
     "output_type": "execute_result"
    }
   ],
   "source": [
    "df.index.is_monotonic_increasing\n",
    "\n",
    "df.sort_index(inplace=True)\n",
    "\n",
    "df.index.is_monotonic_increasing"
   ]
  },
  {
   "attachments": {},
   "cell_type": "markdown",
   "metadata": {},
   "source": [
    "Now let's focus on duplicates:"
   ]
  },
  {
   "cell_type": "code",
   "execution_count": null,
   "metadata": {},
   "outputs": [],
   "source": []
  },
  {
   "cell_type": "markdown",
   "metadata": {},
   "source": [
    "#### Tip: Method Chaining\n",
    "\n",
    "**Method chaining** is a popular feature of pandas. It allows us to *chain* together several operations in a single line of code. For example, we can set the index, sort the data frame and drop any duplicates all at once. Notice we don't use `inplace` but rather re-assign to the original `df` variable.\n",
    "\n",
    "```python\n",
    "df = df.set_index(\"Date\").sort_index().drop_duplicates()\n",
    "```"
   ]
  },
  {
   "attachments": {},
   "cell_type": "markdown",
   "metadata": {},
   "source": [
    "## Not a Number (NaN)\n",
    "\n",
    "### Exercise: Some Null Chain\n",
    "\n",
    "Let's look at the missing or `NaN` values next. Previously, we saw that `info()` gave us some insight into how many missing values we had, but we can also use `isnull()`.\n",
    "\n",
    "Can you chain `isnull()` with `sum()` to get a single value stating the total number of missing values in the data frame?"
   ]
  },
  {
   "cell_type": "code",
   "execution_count": 5,
   "metadata": {},
   "outputs": [
    {
     "data": {
      "application/vnd.microsoft.datawrangler.viewer.v0+json": {
       "columns": [
        {
         "name": "Date",
         "rawType": "datetime64[ns]",
         "type": "datetime"
        },
        {
         "name": "Close",
         "rawType": "bool",
         "type": "boolean"
        },
        {
         "name": "High",
         "rawType": "bool",
         "type": "boolean"
        },
        {
         "name": "Low",
         "rawType": "bool",
         "type": "boolean"
        },
        {
         "name": "Open",
         "rawType": "bool",
         "type": "boolean"
        },
        {
         "name": "Volume",
         "rawType": "bool",
         "type": "boolean"
        }
       ],
       "ref": "b8034ef0-112d-431d-920d-6170177e7752",
       "rows": [
        [
         "2015-01-02 00:00:00",
         "False",
         "False",
         "False",
         "False",
         "False"
        ],
        [
         "2015-01-05 00:00:00",
         "False",
         "False",
         "False",
         "False",
         "False"
        ],
        [
         "2015-01-06 00:00:00",
         "False",
         "False",
         "False",
         "False",
         "False"
        ],
        [
         "2015-01-07 00:00:00",
         "False",
         "False",
         "False",
         "False",
         "False"
        ],
        [
         "2015-01-08 00:00:00",
         "False",
         "False",
         "False",
         "False",
         "False"
        ],
        [
         "2015-01-09 00:00:00",
         "False",
         "False",
         "False",
         "False",
         "False"
        ],
        [
         "2015-01-12 00:00:00",
         "False",
         "False",
         "False",
         "False",
         "False"
        ],
        [
         "2015-01-13 00:00:00",
         "False",
         "False",
         "False",
         "False",
         "False"
        ],
        [
         "2015-01-14 00:00:00",
         "False",
         "False",
         "False",
         "False",
         "False"
        ],
        [
         "2015-01-15 00:00:00",
         "False",
         "False",
         "False",
         "False",
         "False"
        ],
        [
         "2015-01-16 00:00:00",
         "False",
         "False",
         "False",
         "False",
         "False"
        ],
        [
         "2015-01-20 00:00:00",
         "False",
         "False",
         "False",
         "False",
         "False"
        ],
        [
         "2015-01-21 00:00:00",
         "False",
         "False",
         "False",
         "False",
         "False"
        ],
        [
         "2015-01-22 00:00:00",
         "False",
         "False",
         "False",
         "False",
         "False"
        ],
        [
         "2015-01-23 00:00:00",
         "False",
         "False",
         "False",
         "False",
         "False"
        ],
        [
         "2015-01-26 00:00:00",
         "False",
         "False",
         "False",
         "False",
         "False"
        ],
        [
         "2015-01-27 00:00:00",
         "False",
         "False",
         "False",
         "False",
         "False"
        ],
        [
         "2015-01-28 00:00:00",
         "False",
         "False",
         "False",
         "False",
         "False"
        ],
        [
         "2015-01-29 00:00:00",
         "False",
         "False",
         "False",
         "False",
         "False"
        ],
        [
         "2015-01-30 00:00:00",
         "False",
         "False",
         "False",
         "False",
         "False"
        ],
        [
         "2015-02-02 00:00:00",
         "False",
         "False",
         "False",
         "False",
         "False"
        ],
        [
         "2015-02-03 00:00:00",
         "False",
         "False",
         "False",
         "False",
         "False"
        ],
        [
         "2015-02-04 00:00:00",
         "False",
         "False",
         "False",
         "False",
         "False"
        ],
        [
         "2015-02-05 00:00:00",
         "False",
         "False",
         "False",
         "False",
         "False"
        ],
        [
         "2015-02-06 00:00:00",
         "True",
         "False",
         "False",
         "False",
         "False"
        ],
        [
         "2015-02-09 00:00:00",
         "False",
         "False",
         "False",
         "False",
         "False"
        ],
        [
         "2015-02-10 00:00:00",
         "False",
         "False",
         "False",
         "False",
         "False"
        ],
        [
         "2015-02-10 00:00:00",
         "False",
         "False",
         "False",
         "False",
         "False"
        ],
        [
         "2015-02-11 00:00:00",
         "False",
         "False",
         "False",
         "False",
         "False"
        ],
        [
         "2015-02-12 00:00:00",
         "False",
         "False",
         "False",
         "False",
         "False"
        ],
        [
         "2015-02-13 00:00:00",
         "False",
         "False",
         "False",
         "False",
         "False"
        ],
        [
         "2015-02-17 00:00:00",
         "False",
         "False",
         "False",
         "False",
         "False"
        ],
        [
         "2015-02-18 00:00:00",
         "False",
         "False",
         "False",
         "False",
         "False"
        ],
        [
         "2015-02-19 00:00:00",
         "False",
         "False",
         "False",
         "False",
         "False"
        ],
        [
         "2015-02-20 00:00:00",
         "False",
         "False",
         "False",
         "False",
         "False"
        ],
        [
         "2015-02-23 00:00:00",
         "False",
         "False",
         "False",
         "False",
         "False"
        ],
        [
         "2015-02-24 00:00:00",
         "False",
         "False",
         "False",
         "False",
         "False"
        ],
        [
         "2015-02-25 00:00:00",
         "False",
         "False",
         "False",
         "False",
         "False"
        ],
        [
         "2015-02-26 00:00:00",
         "False",
         "False",
         "False",
         "False",
         "False"
        ],
        [
         "2015-02-27 00:00:00",
         "False",
         "False",
         "True",
         "False",
         "False"
        ],
        [
         "2015-03-02 00:00:00",
         "False",
         "False",
         "False",
         "False",
         "False"
        ],
        [
         "2015-03-03 00:00:00",
         "False",
         "False",
         "False",
         "False",
         "False"
        ],
        [
         "2015-03-04 00:00:00",
         "False",
         "False",
         "False",
         "False",
         "False"
        ],
        [
         "2015-03-05 00:00:00",
         "False",
         "False",
         "False",
         "False",
         "False"
        ],
        [
         "2015-03-06 00:00:00",
         "False",
         "False",
         "False",
         "False",
         "False"
        ],
        [
         "2015-03-09 00:00:00",
         "False",
         "False",
         "False",
         "False",
         "False"
        ],
        [
         "2015-03-10 00:00:00",
         "False",
         "False",
         "False",
         "False",
         "False"
        ],
        [
         "2015-03-11 00:00:00",
         "False",
         "False",
         "False",
         "False",
         "False"
        ],
        [
         "2015-03-12 00:00:00",
         "False",
         "False",
         "False",
         "False",
         "False"
        ],
        [
         "2015-03-13 00:00:00",
         "False",
         "False",
         "False",
         "False",
         "False"
        ]
       ],
       "shape": {
        "columns": 5,
        "rows": 2566
       }
      },
      "text/html": [
       "<div>\n",
       "<style scoped>\n",
       "    .dataframe tbody tr th:only-of-type {\n",
       "        vertical-align: middle;\n",
       "    }\n",
       "\n",
       "    .dataframe tbody tr th {\n",
       "        vertical-align: top;\n",
       "    }\n",
       "\n",
       "    .dataframe thead th {\n",
       "        text-align: right;\n",
       "    }\n",
       "</style>\n",
       "<table border=\"1\" class=\"dataframe\">\n",
       "  <thead>\n",
       "    <tr style=\"text-align: right;\">\n",
       "      <th></th>\n",
       "      <th>Close</th>\n",
       "      <th>High</th>\n",
       "      <th>Low</th>\n",
       "      <th>Open</th>\n",
       "      <th>Volume</th>\n",
       "    </tr>\n",
       "    <tr>\n",
       "      <th>Date</th>\n",
       "      <th></th>\n",
       "      <th></th>\n",
       "      <th></th>\n",
       "      <th></th>\n",
       "      <th></th>\n",
       "    </tr>\n",
       "  </thead>\n",
       "  <tbody>\n",
       "    <tr>\n",
       "      <th>2015-01-02</th>\n",
       "      <td>False</td>\n",
       "      <td>False</td>\n",
       "      <td>False</td>\n",
       "      <td>False</td>\n",
       "      <td>False</td>\n",
       "    </tr>\n",
       "    <tr>\n",
       "      <th>2015-01-05</th>\n",
       "      <td>False</td>\n",
       "      <td>False</td>\n",
       "      <td>False</td>\n",
       "      <td>False</td>\n",
       "      <td>False</td>\n",
       "    </tr>\n",
       "    <tr>\n",
       "      <th>2015-01-06</th>\n",
       "      <td>False</td>\n",
       "      <td>False</td>\n",
       "      <td>False</td>\n",
       "      <td>False</td>\n",
       "      <td>False</td>\n",
       "    </tr>\n",
       "    <tr>\n",
       "      <th>2015-01-07</th>\n",
       "      <td>False</td>\n",
       "      <td>False</td>\n",
       "      <td>False</td>\n",
       "      <td>False</td>\n",
       "      <td>False</td>\n",
       "    </tr>\n",
       "    <tr>\n",
       "      <th>2015-01-08</th>\n",
       "      <td>False</td>\n",
       "      <td>False</td>\n",
       "      <td>False</td>\n",
       "      <td>False</td>\n",
       "      <td>False</td>\n",
       "    </tr>\n",
       "    <tr>\n",
       "      <th>...</th>\n",
       "      <td>...</td>\n",
       "      <td>...</td>\n",
       "      <td>...</td>\n",
       "      <td>...</td>\n",
       "      <td>...</td>\n",
       "    </tr>\n",
       "    <tr>\n",
       "      <th>2024-12-23</th>\n",
       "      <td>False</td>\n",
       "      <td>False</td>\n",
       "      <td>False</td>\n",
       "      <td>True</td>\n",
       "      <td>False</td>\n",
       "    </tr>\n",
       "    <tr>\n",
       "      <th>2024-12-24</th>\n",
       "      <td>False</td>\n",
       "      <td>False</td>\n",
       "      <td>False</td>\n",
       "      <td>False</td>\n",
       "      <td>False</td>\n",
       "    </tr>\n",
       "    <tr>\n",
       "      <th>2024-12-26</th>\n",
       "      <td>False</td>\n",
       "      <td>False</td>\n",
       "      <td>False</td>\n",
       "      <td>False</td>\n",
       "      <td>False</td>\n",
       "    </tr>\n",
       "    <tr>\n",
       "      <th>2024-12-27</th>\n",
       "      <td>False</td>\n",
       "      <td>False</td>\n",
       "      <td>False</td>\n",
       "      <td>False</td>\n",
       "      <td>False</td>\n",
       "    </tr>\n",
       "    <tr>\n",
       "      <th>2024-12-30</th>\n",
       "      <td>False</td>\n",
       "      <td>False</td>\n",
       "      <td>False</td>\n",
       "      <td>False</td>\n",
       "      <td>False</td>\n",
       "    </tr>\n",
       "  </tbody>\n",
       "</table>\n",
       "<p>2566 rows × 5 columns</p>\n",
       "</div>"
      ],
      "text/plain": [
       "            Close   High    Low   Open  Volume\n",
       "Date                                          \n",
       "2015-01-02  False  False  False  False   False\n",
       "2015-01-05  False  False  False  False   False\n",
       "2015-01-06  False  False  False  False   False\n",
       "2015-01-07  False  False  False  False   False\n",
       "2015-01-08  False  False  False  False   False\n",
       "...           ...    ...    ...    ...     ...\n",
       "2024-12-23  False  False  False   True   False\n",
       "2024-12-24  False  False  False  False   False\n",
       "2024-12-26  False  False  False  False   False\n",
       "2024-12-27  False  False  False  False   False\n",
       "2024-12-30  False  False  False  False   False\n",
       "\n",
       "[2566 rows x 5 columns]"
      ]
     },
     "execution_count": 5,
     "metadata": {},
     "output_type": "execute_result"
    }
   ],
   "source": [
    "## YOUR CODE GOES HERE\n",
    "df.isnull()\n",
    "\n"
   ]
  },
  {
   "cell_type": "markdown",
   "metadata": {},
   "source": [
    "We can find out which rows have missing data using `isnull()`, `any()` along rows and some smart *masking*."
   ]
  },
  {
   "cell_type": "code",
   "execution_count": null,
   "metadata": {},
   "outputs": [],
   "source": []
  },
  {
   "attachments": {},
   "cell_type": "markdown",
   "metadata": {},
   "source": [
    "Now that we've identified our missing values, the big question is how to handle them. There are many approaches to this that will vary depending on the data and the further analysis you plan to carry out."
   ]
  },
  {
   "cell_type": "code",
   "execution_count": null,
   "metadata": {},
   "outputs": [],
   "source": []
  },
  {
   "attachments": {},
   "cell_type": "markdown",
   "metadata": {},
   "source": [
    "### Exercise: Cleaning up\n",
    "\n",
    "Notice how above we didn't actually update the `df` variable, so our DataFrame is still full of missing values. Fix all missing values applying the following rules:\n",
    "- Fill missing Close by linear interpolation\n",
    "- Fill missing Volume with the value from the day before\n",
    "- Fill missing Open with the median Open\n",
    "- Fill missing High with the Close or Open, whichever is higher\n",
    "- Fill missing Low with a value 3% lower than the High\n",
    "\n",
    "\n",
    "Your DataFrame `df` should have no missing values when done. Use `info()` to confirm.\n",
    "\n",
    "**NOTE:** When changing values in a data frame, it is recommended to avoid using `inplace`, and instead re-assign the variable."
   ]
  },
  {
   "cell_type": "code",
   "execution_count": 6,
   "metadata": {},
   "outputs": [
    {
     "data": {
      "text/plain": [
       "np.int64(0)"
      ]
     },
     "execution_count": 6,
     "metadata": {},
     "output_type": "execute_result"
    }
   ],
   "source": [
    "## YOUR CODE GOES HERE\n",
    "df.Close = df.Close.interpolate(method=\"linear\")\n",
    "\n",
    "df.Volume = df.Volume.ffill()\n",
    "\n",
    "df.Open = df.Open.fillna(df.Open.median())\n",
    "\n",
    "df.High = df.High.fillna(df[[\"Close\", \"Open\"]].max(axis=1))\n",
    "\n",
    "df.Low = df.Low.fillna (df.High*0.97)\n",
    "\n",
    "df.isnull().sum().sum()\n",
    "\n"
   ]
  },
  {
   "attachments": {},
   "cell_type": "markdown",
   "metadata": {},
   "source": [
    "#### Advanced: Data Types\n",
    "\n",
    "You may have noticed that the **Volume** column in the 2021 data frame is a `float64` instead of the `int64` *dtype* we had in the 2020 data frame. Missing values (NaN) are represented as a special case of floating point number, so all the values in **Volume** were automatically *upcast* to floats.\n",
    "\n",
    "Ideally our columns should be of the *dtype* that most accurately represents them. This will improve performance when working with large data frames. Now that we've resolved our missing numbers, we can *cast* our trading volumes as integers."
   ]
  },
  {
   "cell_type": "code",
   "execution_count": 7,
   "metadata": {},
   "outputs": [
    {
     "name": "stdout",
     "output_type": "stream",
     "text": [
      "<class 'pandas.core.frame.DataFrame'>\n",
      "DatetimeIndex: 2566 entries, 2015-01-02 to 2024-12-30\n",
      "Data columns (total 5 columns):\n",
      " #   Column  Non-Null Count  Dtype  \n",
      "---  ------  --------------  -----  \n",
      " 0   Close   2566 non-null   float64\n",
      " 1   High    2566 non-null   float64\n",
      " 2   Low     2566 non-null   float64\n",
      " 3   Open    2566 non-null   float64\n",
      " 4   Volume  2566 non-null   int64  \n",
      "dtypes: float64(4), int64(1)\n",
      "memory usage: 120.3 KB\n"
     ]
    }
   ],
   "source": [
    "df[\"Volume\"] = df[\"Volume\"].astype(\"int64\")\n",
    "df.info()"
   ]
  },
  {
   "attachments": {},
   "cell_type": "markdown",
   "metadata": {},
   "source": [
    "## Saving Data\n",
    "\n",
    "Now that we've cleaned our data, let's save it, by writing it to a new .CSV file. We can use pandas' `to_csv()`."
   ]
  },
  {
   "cell_type": "code",
   "execution_count": 8,
   "metadata": {},
   "outputs": [
    {
     "data": {
      "application/vnd.microsoft.datawrangler.viewer.v0+json": {
       "columns": [
        {
         "name": "Date",
         "rawType": "datetime64[ns]",
         "type": "datetime"
        },
        {
         "name": "Close",
         "rawType": "float64",
         "type": "float"
        },
        {
         "name": "High",
         "rawType": "float64",
         "type": "float"
        },
        {
         "name": "Low",
         "rawType": "float64",
         "type": "float"
        },
        {
         "name": "Open",
         "rawType": "float64",
         "type": "float"
        },
        {
         "name": "Volume",
         "rawType": "int64",
         "type": "integer"
        }
       ],
       "ref": "24ddb53f-1406-4423-a44d-cc2d275bb970",
       "rows": [
        [
         "2015-01-02 00:00:00",
         "14.620667457580566",
         "14.883333206176758",
         "14.21733283996582",
         "14.857999801635742",
         "71466000"
        ],
        [
         "2015-01-05 00:00:00",
         "14.005999565124512",
         "14.43333339691162",
         "13.810667037963867",
         "14.303333282470703",
         "80527500"
        ],
        [
         "2015-01-06 00:00:00",
         "14.085332870483398",
         "14.279999732971191",
         "13.61400032043457",
         "14.003999710083008",
         "93928500"
        ],
        [
         "2015-01-07 00:00:00",
         "14.063332557678224",
         "14.3186674118042",
         "13.985333442687988",
         "14.223333358764648",
         "44526000"
        ],
        [
         "2015-01-08 00:00:00",
         "14.041333198547363",
         "14.25333309173584",
         "14.000666618347168",
         "14.187333106994627",
         "51637500"
        ],
        [
         "2015-01-09 00:00:00",
         "13.77733325958252",
         "13.998666763305664",
         "13.663999557495115",
         "13.928000450134276",
         "70024500"
        ],
        [
         "2015-01-12 00:00:00",
         "13.480667114257812",
         "13.631333351135254",
         "13.283332824707031",
         "13.536666870117188",
         "89254500"
        ],
        [
         "2015-01-13 00:00:00",
         "13.616666793823242",
         "13.84066677093506",
         "13.394000053405762",
         "13.554667472839355",
         "67159500"
        ],
        [
         "2015-01-14 00:00:00",
         "12.845999717712402",
         "13.013333320617676",
         "12.333333015441896",
         "12.388667106628418",
         "173278500"
        ],
        [
         "2015-01-15 00:00:00",
         "12.791333198547363",
         "13.050000190734863",
         "12.666666984558104",
         "12.965999603271484",
         "78247500"
        ],
        [
         "2015-01-16 00:00:00",
         "12.871333122253418",
         "12.965999603271484",
         "12.643333435058594",
         "12.713333129882812",
         "54048000"
        ],
        [
         "2015-01-20 00:00:00",
         "12.795332908630373",
         "12.941332817077637",
         "12.469332695007324",
         "12.924667358398438",
         "67548000"
        ],
        [
         "2015-01-21 00:00:00",
         "13.104666709899902",
         "13.245332717895508",
         "12.633999824523926",
         "12.636667251586914",
         "62295000"
        ],
        [
         "2015-01-22 00:00:00",
         "13.441332817077637",
         "13.54933261871338",
         "13.013333320617676",
         "13.133333206176758",
         "61753500"
        ],
        [
         "2015-01-23 00:00:00",
         "13.419333457946776",
         "13.56666660308838",
         "13.222000122070312",
         "13.352666854858398",
         "51579000"
        ],
        [
         "2015-01-26 00:00:00",
         "13.770000457763672",
         "13.907999992370604",
         "13.403332710266112",
         "13.45533275604248",
         "48517500"
        ],
        [
         "2015-01-27 00:00:00",
         "13.732000350952148",
         "13.868666648864746",
         "13.553333282470703",
         "13.628000259399414",
         "41715000"
        ],
        [
         "2015-01-28 00:00:00",
         "13.291333198547363",
         "13.758000373840332",
         "13.227999687194824",
         "13.740667343139648",
         "47244000"
        ],
        [
         "2015-01-29 00:00:00",
         "13.68000030517578",
         "13.732000350952148",
         "13.100000381469728",
         "13.404666900634766",
         "53221500"
        ],
        [
         "2015-01-30 00:00:00",
         "13.57333278656006",
         "13.83133316040039",
         "13.533332824707031",
         "13.597332954406738",
         "45105000"
        ],
        [
         "2015-02-02 00:00:00",
         "14.062666893005373",
         "14.130000114440918",
         "13.553333282470703",
         "13.597999572753906",
         "62238000"
        ],
        [
         "2015-02-03 00:00:00",
         "14.557332992553713",
         "14.691332817077637",
         "14.084667205810549",
         "14.214667320251465",
         "72393000"
        ],
        [
         "2015-02-04 00:00:00",
         "14.56999969482422",
         "14.76533317565918",
         "14.453332901000977",
         "14.552666664123535",
         "49581000"
        ],
        [
         "2015-02-05 00:00:00",
         "14.732666969299316",
         "15.031999588012695",
         "14.642666816711426",
         "14.658666610717772",
         "52843500"
        ],
        [
         "2015-02-06 00:00:00",
         "14.61566686630249",
         "14.893333435058594",
         "14.43333339691162",
         "14.800000190734863",
         "48658500"
        ],
        [
         "2015-02-09 00:00:00",
         "14.498666763305664",
         "14.528667449951172",
         "14.13266658782959",
         "14.358667373657228",
         "52086000"
        ],
        [
         "2015-02-10 00:00:00",
         "14.419333457946776",
         "14.699999809265137",
         "14.333333015441896",
         "14.50333309173584",
         "80857500"
        ],
        [
         "2015-02-10 00:00:00",
         "14.419333457946776",
         "14.699999809265137",
         "14.333333015441896",
         "14.50333309173584",
         "80857500"
        ],
        [
         "2015-02-11 00:00:00",
         "14.186667442321776",
         "14.315999984741213",
         "13.8186674118042",
         "14.147333145141602",
         "146536500"
        ],
        [
         "2015-02-12 00:00:00",
         "13.525333404541016",
         "13.53933334350586",
         "12.885333061218262",
         "12.904666900634766",
         "234744000"
        ],
        [
         "2015-02-13 00:00:00",
         "13.584667205810549",
         "13.732666969299316",
         "13.394000053405762",
         "13.526666641235352",
         "92865000"
        ],
        [
         "2015-02-17 00:00:00",
         "13.623332977294922",
         "13.713333129882812",
         "13.43333339691162",
         "13.713333129882812",
         "59694000"
        ],
        [
         "2015-02-18 00:00:00",
         "13.630666732788086",
         "13.744667053222656",
         "13.506667137145996",
         "13.611332893371582",
         "40704000"
        ],
        [
         "2015-02-19 00:00:00",
         "14.11400032043457",
         "14.162667274475098",
         "13.583333015441896",
         "13.666666984558104",
         "77311500"
        ],
        [
         "2015-02-20 00:00:00",
         "14.473999977111816",
         "14.506667137145996",
         "13.987333297729492",
         "14.052000045776367",
         "89731500"
        ],
        [
         "2015-02-23 00:00:00",
         "13.822667121887209",
         "14.546667098999023",
         "13.755332946777344",
         "14.37733268737793",
         "127497000"
        ],
        [
         "2015-02-24 00:00:00",
         "13.607333183288574",
         "13.81933307647705",
         "13.446666717529297",
         "13.81933307647705",
         "99054000"
        ],
        [
         "2015-02-25 00:00:00",
         "13.583999633789062",
         "13.809332847595217",
         "13.505332946777344",
         "13.662667274475098",
         "58642500"
        ],
        [
         "2015-02-26 00:00:00",
         "13.812666893005373",
         "14.072667121887209",
         "13.481332778930664",
         "13.600000381469728",
         "97093500"
        ],
        [
         "2015-02-27 00:00:00",
         "13.555999755859377",
         "13.903332710266112",
         "13.486232728958127",
         "13.793333053588867",
         "58231500"
        ],
        [
         "2015-03-02 00:00:00",
         "13.155332565307615",
         "13.555999755859377",
         "13.055333137512209",
         "13.513333320617676",
         "118831500"
        ],
        [
         "2015-03-03 00:00:00",
         "13.303999900817873",
         "13.349332809448242",
         "13.021332740783691",
         "13.120667457580566",
         "66484500"
        ],
        [
         "2015-03-04 00:00:00",
         "13.496000289916992",
         "13.501333236694336",
         "13.147333145141602",
         "13.283332824707031",
         "63330000"
        ],
        [
         "2015-03-05 00:00:00",
         "13.375332832336426",
         "13.746000289916992",
         "13.34333324432373",
         "13.523332595825195",
         "73155000"
        ],
        [
         "2015-03-06 00:00:00",
         "12.925333023071287",
         "13.383333206176758",
         "12.8100004196167",
         "13.280667304992676",
         "100686000"
        ],
        [
         "2015-03-09 00:00:00",
         "12.725333213806152",
         "12.965999603271484",
         "12.550000190734863",
         "12.959333419799805",
         "101050500"
        ],
        [
         "2015-03-10 00:00:00",
         "12.687999725341797",
         "12.899999618530272",
         "12.506667137145996",
         "12.564000129699709",
         "83695500"
        ],
        [
         "2015-03-11 00:00:00",
         "12.916000366210938",
         "13.07866668701172",
         "12.734000205993652",
         "12.743332862854004",
         "74623500"
        ],
        [
         "2015-03-12 00:00:00",
         "12.73799991607666",
         "12.963333129882812",
         "12.649999618530272",
         "12.916666984558104",
         "62239500"
        ],
        [
         "2015-03-13 00:00:00",
         "12.57866668701172",
         "12.783332824707031",
         "12.48799991607666",
         "12.596667289733888",
         "81514500"
        ]
       ],
       "shape": {
        "columns": 5,
        "rows": 2566
       }
      },
      "text/html": [
       "<div>\n",
       "<style scoped>\n",
       "    .dataframe tbody tr th:only-of-type {\n",
       "        vertical-align: middle;\n",
       "    }\n",
       "\n",
       "    .dataframe tbody tr th {\n",
       "        vertical-align: top;\n",
       "    }\n",
       "\n",
       "    .dataframe thead th {\n",
       "        text-align: right;\n",
       "    }\n",
       "</style>\n",
       "<table border=\"1\" class=\"dataframe\">\n",
       "  <thead>\n",
       "    <tr style=\"text-align: right;\">\n",
       "      <th></th>\n",
       "      <th>Close</th>\n",
       "      <th>High</th>\n",
       "      <th>Low</th>\n",
       "      <th>Open</th>\n",
       "      <th>Volume</th>\n",
       "    </tr>\n",
       "    <tr>\n",
       "      <th>Date</th>\n",
       "      <th></th>\n",
       "      <th></th>\n",
       "      <th></th>\n",
       "      <th></th>\n",
       "      <th></th>\n",
       "    </tr>\n",
       "  </thead>\n",
       "  <tbody>\n",
       "    <tr>\n",
       "      <th>2015-01-02</th>\n",
       "      <td>14.620667</td>\n",
       "      <td>14.883333</td>\n",
       "      <td>14.217333</td>\n",
       "      <td>14.858000</td>\n",
       "      <td>71466000</td>\n",
       "    </tr>\n",
       "    <tr>\n",
       "      <th>2015-01-05</th>\n",
       "      <td>14.006000</td>\n",
       "      <td>14.433333</td>\n",
       "      <td>13.810667</td>\n",
       "      <td>14.303333</td>\n",
       "      <td>80527500</td>\n",
       "    </tr>\n",
       "    <tr>\n",
       "      <th>2015-01-06</th>\n",
       "      <td>14.085333</td>\n",
       "      <td>14.280000</td>\n",
       "      <td>13.614000</td>\n",
       "      <td>14.004000</td>\n",
       "      <td>93928500</td>\n",
       "    </tr>\n",
       "    <tr>\n",
       "      <th>2015-01-07</th>\n",
       "      <td>14.063333</td>\n",
       "      <td>14.318667</td>\n",
       "      <td>13.985333</td>\n",
       "      <td>14.223333</td>\n",
       "      <td>44526000</td>\n",
       "    </tr>\n",
       "    <tr>\n",
       "      <th>2015-01-08</th>\n",
       "      <td>14.041333</td>\n",
       "      <td>14.253333</td>\n",
       "      <td>14.000667</td>\n",
       "      <td>14.187333</td>\n",
       "      <td>51637500</td>\n",
       "    </tr>\n",
       "    <tr>\n",
       "      <th>...</th>\n",
       "      <td>...</td>\n",
       "      <td>...</td>\n",
       "      <td>...</td>\n",
       "      <td>...</td>\n",
       "      <td>...</td>\n",
       "    </tr>\n",
       "    <tr>\n",
       "      <th>2024-12-23</th>\n",
       "      <td>430.600006</td>\n",
       "      <td>434.510010</td>\n",
       "      <td>415.410004</td>\n",
       "      <td>28.527332</td>\n",
       "      <td>72698100</td>\n",
       "    </tr>\n",
       "    <tr>\n",
       "      <th>2024-12-24</th>\n",
       "      <td>462.279999</td>\n",
       "      <td>462.779999</td>\n",
       "      <td>435.140015</td>\n",
       "      <td>435.899994</td>\n",
       "      <td>59551800</td>\n",
       "    </tr>\n",
       "    <tr>\n",
       "      <th>2024-12-26</th>\n",
       "      <td>454.130005</td>\n",
       "      <td>465.329987</td>\n",
       "      <td>451.019989</td>\n",
       "      <td>465.160004</td>\n",
       "      <td>76366400</td>\n",
       "    </tr>\n",
       "    <tr>\n",
       "      <th>2024-12-27</th>\n",
       "      <td>431.660004</td>\n",
       "      <td>450.000000</td>\n",
       "      <td>426.500000</td>\n",
       "      <td>449.519989</td>\n",
       "      <td>82666800</td>\n",
       "    </tr>\n",
       "    <tr>\n",
       "      <th>2024-12-30</th>\n",
       "      <td>417.410004</td>\n",
       "      <td>427.000000</td>\n",
       "      <td>415.750000</td>\n",
       "      <td>419.399994</td>\n",
       "      <td>64941000</td>\n",
       "    </tr>\n",
       "  </tbody>\n",
       "</table>\n",
       "<p>2566 rows × 5 columns</p>\n",
       "</div>"
      ],
      "text/plain": [
       "                 Close        High         Low        Open    Volume\n",
       "Date                                                                \n",
       "2015-01-02   14.620667   14.883333   14.217333   14.858000  71466000\n",
       "2015-01-05   14.006000   14.433333   13.810667   14.303333  80527500\n",
       "2015-01-06   14.085333   14.280000   13.614000   14.004000  93928500\n",
       "2015-01-07   14.063333   14.318667   13.985333   14.223333  44526000\n",
       "2015-01-08   14.041333   14.253333   14.000667   14.187333  51637500\n",
       "...                ...         ...         ...         ...       ...\n",
       "2024-12-23  430.600006  434.510010  415.410004   28.527332  72698100\n",
       "2024-12-24  462.279999  462.779999  435.140015  435.899994  59551800\n",
       "2024-12-26  454.130005  465.329987  451.019989  465.160004  76366400\n",
       "2024-12-27  431.660004  450.000000  426.500000  449.519989  82666800\n",
       "2024-12-30  417.410004  427.000000  415.750000  419.399994  64941000\n",
       "\n",
       "[2566 rows x 5 columns]"
      ]
     },
     "execution_count": 8,
     "metadata": {},
     "output_type": "execute_result"
    }
   ],
   "source": [
    "df.to_csv(\"TSLA_10_clean.csv\", index=False)\n",
    "df"
   ]
  },
  {
   "cell_type": "code",
   "execution_count": null,
   "metadata": {},
   "outputs": [],
   "source": []
  }
 ],
 "metadata": {
  "kernelspec": {
   "display_name": "Python 3",
   "language": "python",
   "name": "python3"
  },
  "language_info": {
   "codemirror_mode": {
    "name": "ipython",
    "version": 3
   },
   "file_extension": ".py",
   "mimetype": "text/x-python",
   "name": "python",
   "nbconvert_exporter": "python",
   "pygments_lexer": "ipython3",
   "version": "3.12.1"
  }
 },
 "nbformat": 4,
 "nbformat_minor": 2
}
